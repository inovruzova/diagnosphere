{
 "cells": [
  {
   "cell_type": "markdown",
   "id": "07f9d0f7",
   "metadata": {},
   "source": [
    "# Understanding Bayes Nets"
   ]
  },
  {
   "cell_type": "markdown",
   "id": "ba9c7526",
   "metadata": {},
   "source": [
    "We have:\n",
    "\n",
    "- Nodes: Variables\n",
    "- Edges: Dependencies between variables\n",
    "\n",
    "Bayes Nets encode the joint probability distribution of variables, allowing inference given evidence."
   ]
  },
  {
   "cell_type": "markdown",
   "id": "6c8bb5f9",
   "metadata": {},
   "source": [
    "# Setup"
   ]
  },
  {
   "cell_type": "code",
   "execution_count": 96,
   "id": "c3d23242",
   "metadata": {},
   "outputs": [],
   "source": [
    "from inspect import getsource\n",
    "from IPython.display import display\n",
    "import pandas as pd\n",
    "import numpy as np\n",
    "from collections import defaultdict, Counter\n",
    "import itertools\n",
    "import math\n",
    "import random\n",
    "from sklearn.model_selection import train_test_split\n",
    "from sklearn.linear_model import LogisticRegression\n",
    "from matplotlib import pyplot\n",
    "import time\n",
    "from sklearn.metrics import accuracy_score, confusion_matrix, classification_report\n",
    "import json"
   ]
  },
  {
   "cell_type": "code",
   "execution_count": 97,
   "id": "b74c44ee",
   "metadata": {},
   "outputs": [],
   "source": [
    "random.seed(42)"
   ]
  },
  {
   "cell_type": "code",
   "execution_count": 98,
   "id": "d2c95e2f",
   "metadata": {},
   "outputs": [],
   "source": [
    "df = pd.read_csv('../data/covid_preprocessed.csv')"
   ]
  },
  {
   "cell_type": "code",
   "execution_count": 99,
   "id": "214b816c",
   "metadata": {
    "scrolled": false
   },
   "outputs": [
    {
     "data": {
      "text/plain": [
       "Index(['USMER', 'MEDICAL_UNIT', 'SEX', 'PATIENT_TYPE', 'DATE_DIED', 'INTUBED',\n",
       "       'PNEUMONIA', 'AGE', 'PREGNANT', 'DIABETES', 'COPD', 'ASTHMA', 'INMSUPR',\n",
       "       'HIPERTENSION', 'OTHER_DISEASE', 'CARDIOVASCULAR', 'OBESITY',\n",
       "       'RENAL_CHRONIC', 'TOBACCO', 'CLASIFFICATION_FINAL', 'ICU', 'AGE_GROUP'],\n",
       "      dtype='object')"
      ]
     },
     "execution_count": 99,
     "metadata": {},
     "output_type": "execute_result"
    }
   ],
   "source": [
    "df.columns"
   ]
  },
  {
   "cell_type": "code",
   "execution_count": 100,
   "id": "84574990",
   "metadata": {},
   "outputs": [],
   "source": [
    "train_data, test_data = train_test_split(\n",
    "    df,\n",
    "    test_size=0.2,\n",
    "    random_state=42,\n",
    "    stratify=df[\"CLASIFFICATION_FINAL\"]\n",
    ")"
   ]
  },
  {
   "cell_type": "code",
   "execution_count": 101,
   "id": "dc8e4975",
   "metadata": {},
   "outputs": [],
   "source": [
    "categorical_columns = ['AGE_GROUP', 'PNEUMONIA', 'ICU', 'CLASIFFICATION_FINAL', 'SEX', 'OBESITY', 'DIABETES']\n",
    "for col in categorical_columns:\n",
    "    train_data[col] = train_data[col].astype(\"category\")\n",
    "    test_data[col] = test_data[col].astype(\"category\")"
   ]
  },
  {
   "cell_type": "code",
   "execution_count": 102,
   "id": "10333244",
   "metadata": {},
   "outputs": [],
   "source": [
    "for col in categorical_columns:\n",
    "    train_data[col] = train_data[col].cat.remove_unused_categories()\n",
    "    test_data[col] = test_data[col].cat.remove_unused_categories()"
   ]
  },
  {
   "cell_type": "markdown",
   "id": "c55bed83",
   "metadata": {},
   "source": [
    "# Helper Code"
   ]
  },
  {
   "cell_type": "code",
   "execution_count": 103,
   "id": "a05e60c7",
   "metadata": {},
   "outputs": [],
   "source": [
    "def extend(s, var, val):\n",
    "    \"\"\"Create a copy of dictionary `s` and add a new key-value pair where `var` is set to `val`. Return the updated copy.\"\"\"\n",
    "    return {**s, var: val}"
   ]
  },
  {
   "cell_type": "code",
   "execution_count": 106,
   "id": "1a3fc591",
   "metadata": {},
   "outputs": [],
   "source": [
    "class ProbDist:\n",
    "    \"\"\"\n",
    "    Represents a discrete probability distribution for a single random variable. \n",
    "    You can initialize it with a variable name and an optional frequency dictionary.\n",
    "    Probabilities are normalized automatically if frequencies are provided.\n",
    "\n",
    "    Example:\n",
    "    >>> P = ProbDist('Flip'); P['H'], P['T'] = 0.25, 0.75; P['H']\n",
    "    0.25\n",
    "    >>> P = ProbDist('X', {'lo': 125, 'med': 375, 'hi': 500})\n",
    "    >>> P['lo'], P['med'], P['hi']\n",
    "    (0.125, 0.375, 0.5)\n",
    "    \"\"\"\n",
    "    def __init__(self, varname='?', freqs=None):\n",
    "        \"\"\"\n",
    "        Initialize the distribution. If `freqs` is given, it must be a dictionary \n",
    "        with values as keys and their frequencies as values. The distribution is normalized.\n",
    "        \"\"\"\n",
    "        self.prob = {}\n",
    "        self.varname = varname\n",
    "        self.values = []\n",
    "        if freqs:\n",
    "            for (v, p) in freqs.items():\n",
    "                self[v] = p\n",
    "            self.normalize()\n",
    "\n",
    "    def __getitem__(self, val):\n",
    "        \"\"\"Retrieve the probability of `val` if it exists, otherwise return 0.\"\"\"\n",
    "        try:\n",
    "            return self.prob[val]\n",
    "        except KeyError:\n",
    "            return 0\n",
    "\n",
    "    def __setitem__(self, val, p):\n",
    "        \"\"\"Assign probability `p` to the value `val`.\"\"\"\n",
    "        if val not in self.values:\n",
    "            self.values.append(val)\n",
    "        self.prob[val] = p\n",
    "\n",
    "    def normalize(self):\n",
    "        \"\"\"\n",
    "        Ensure that the probabilities of all values sum up to 1. \n",
    "        If the sum of values is 0, a ZeroDivisionError is raised.\n",
    "        \"\"\"\n",
    "        total = sum(self.prob.values())\n",
    "        if not np.isclose(total, 1.0):\n",
    "            for val in self.prob:\n",
    "                self.prob[val] /= total\n",
    "        return self\n",
    "\n",
    "    def show_approx(self, numfmt='{:.3g}'):\n",
    "        \"\"\"\n",
    "        Display the probabilities rounded to a specified format, sorted by their keys. \n",
    "        Useful for readability in doctests.\n",
    "        \"\"\"\n",
    "        return ', '.join([('{}: ' + numfmt).format(v, p)\n",
    "                          for (v, p) in sorted(self.prob.items())])\n",
    "\n",
    "    def __repr__(self):\n",
    "        \"\"\"Return a string representation of the distribution.\"\"\"\n",
    "        return \"P({})\".format(self.varname)"
   ]
  },
  {
   "cell_type": "code",
   "execution_count": 109,
   "id": "93d67948",
   "metadata": {},
   "outputs": [],
   "source": [
    "def probability_sampling(probabilities):\n",
    "    \"\"\"\n",
    "    Perform random sampling based on the given probability distribution. \n",
    "    Returns an outcome based on the probabilities.\n",
    "    \"\"\"\n",
    "    total = sum(probabilities.values())\n",
    "    r = random.uniform(0, total)\n",
    "    cumulative = 0\n",
    "    for outcome, prob in probabilities.items():\n",
    "        cumulative += prob\n",
    "        if r <= cumulative:\n",
    "            return outcome\n",
    "    return None  # This should not occur if probabilities are normalized."
   ]
  },
  {
   "cell_type": "code",
   "execution_count": 110,
   "id": "7159ca6d",
   "metadata": {},
   "outputs": [],
   "source": [
    "class MultiClassBayesNode:\n",
    "    \"\"\"\n",
    "    Represents a node in a Bayesian network for multi-class variables. \n",
    "    It contains the variable, its parents, and the conditional probability table (CPT).\n",
    "    \"\"\"\n",
    "    def __init__(self, X, parents, cpt):\n",
    "        \"\"\"\n",
    "        Initialize the node with:\n",
    "        - `X`: Variable name.\n",
    "        - `parents`: List of parent variable names.\n",
    "        - `cpt`: A dictionary representing the conditional probability table.\n",
    "        \"\"\"\n",
    "        if isinstance(parents, str):\n",
    "            parents = parents.split()\n",
    "        self.variable = X\n",
    "        self.parents = parents\n",
    "        self.cpt = cpt\n",
    "        self.children = []\n",
    "\n",
    "    def p(self, value, event):\n",
    "        \"\"\"\n",
    "        Compute the conditional probability of `X=value` given the parent values in `event`.\n",
    "        \"\"\"\n",
    "        parent_values = tuple(event.get(p, None) for p in self.parents)\n",
    "        probabilities = self.cpt.get(parent_values, {})\n",
    "        return probabilities.get(value, 0)  # Defaults to 0 if `value` is not found.\n",
    "\n",
    "    def sample(self, event):\n",
    "        \"\"\"\n",
    "        Sample a value for the variable given parent values in `event`. \n",
    "        Sampling is based on the conditional probability distribution.\n",
    "        \"\"\"\n",
    "        parent_values = tuple(event.get(p, None) for p in self.parents)\n",
    "        probabilities = self.cpt.get(parent_values, {})\n",
    "        return probability_sampling(probabilities)\n",
    "\n",
    "    def __repr__(self):\n",
    "        \"\"\"Return a string representation of the node.\"\"\"\n",
    "        return repr((self.variable, ' '.join(self.parents)))"
   ]
  },
  {
   "cell_type": "code",
   "execution_count": 111,
   "id": "a1b41a9a",
   "metadata": {},
   "outputs": [],
   "source": [
    "class BayesNet:\n",
    "    \"\"\"\n",
    "    Represents a Bayesian network consisting of nodes (variables) and their dependencies.\n",
    "    Supports multi-class nodes.\n",
    "    \"\"\"\n",
    "    def __init__(self, node_specs=None):\n",
    "        \"\"\"\n",
    "        Initialize the network. Nodes must be added in topological order \n",
    "        (parents must be added before their children).\n",
    "        \"\"\"\n",
    "        self.nodes = []\n",
    "        self.variables = []\n",
    "        node_specs = node_specs or []\n",
    "        for node_spec in node_specs:\n",
    "            self.add(node_spec)\n",
    "\n",
    "    def add(self, node_spec):\n",
    "        \"\"\"\n",
    "        Add a node to the network. Accepts either a pre-constructed node \n",
    "        or the specifications for a new node.\n",
    "        \"\"\"\n",
    "        if isinstance(node_spec, MultiClassBayesNode):\n",
    "            node = node_spec\n",
    "        else:\n",
    "            node = MultiClassBayesNode(*node_spec)\n",
    "\n",
    "        assert node.variable not in self.variables\n",
    "        assert all((parent in self.variables) for parent in node.parents)\n",
    "\n",
    "        self.nodes.append(node)\n",
    "        self.variables.append(node.variable)\n",
    "\n",
    "        # Register this node as a child for its parent nodes\n",
    "        for parent in node.parents:\n",
    "            self.variable_node(parent).children.append(node)\n",
    "\n",
    "    def variable_node(self, var):\n",
    "        \"\"\"Retrieve the node corresponding to the variable `var`.\"\"\"\n",
    "        for n in self.nodes:\n",
    "            if n.variable == var:\n",
    "                return n\n",
    "        raise Exception(f\"No such variable: {var}\")\n",
    "\n",
    "    def variable_values(self, var):\n",
    "        \"\"\"Retrieve the domain of `var` (default is `[True, False]`).\"\"\"\n",
    "        return [True, False]\n",
    "\n",
    "    def __repr__(self):\n",
    "        \"\"\"Return a string representation of the network.\"\"\"\n",
    "        return f\"BayesNet({self.nodes!r})\""
   ]
  },
  {
   "cell_type": "code",
   "execution_count": 113,
   "id": "c01ebbe8",
   "metadata": {},
   "outputs": [],
   "source": [
    "class Factor:\n",
    "    \"\"\"Represents a factor in a joint distribution.\"\"\"\n",
    "    def __init__(self, variables, cpt):\n",
    "        \"\"\"\n",
    "        Initialize the factor with:\n",
    "        - `variables`: List of variables involved in the factor.\n",
    "        - `cpt`: Conditional probability table.\n",
    "        \"\"\"\n",
    "        self.variables = variables\n",
    "        self.cpt = cpt\n",
    "\n",
    "    def normalize(self):\n",
    "        \"\"\"\n",
    "        Normalize the factor and return a `ProbDist` for the remaining variable.\n",
    "        This is only valid if the factor has one variable left.\n",
    "        \"\"\"\n",
    "        assert len(self.variables) == 1\n",
    "        return ProbDist(self.variables[0], {k: v for ((k,), v) in self.cpt.items()})\n",
    "\n",
    "    def p(self, e):\n",
    "        \"\"\"Retrieve the probability for the event `e` from the factor's CPT.\"\"\"\n",
    "        return self.cpt[event_values(e, self.variables)]"
   ]
  },
  {
   "cell_type": "code",
   "execution_count": 114,
   "id": "3d56a77b",
   "metadata": {},
   "outputs": [],
   "source": [
    "def enumerate_all(variables, e, bn):\n",
    "    \"\"\"\n",
    "    Calculate the sum of all entries in the joint probability distribution \n",
    "    for `variables` consistent with the evidence `e` in network `bn`.\n",
    "    \"\"\"\n",
    "    if not variables:\n",
    "        return 1.0\n",
    "    Y, rest = variables[0], variables[1:]\n",
    "    Ynode = bn.variable_node(Y)\n",
    "    if Y in e:\n",
    "        return Ynode.p(e[Y], e) * enumerate_all(rest, e, bn)\n",
    "    else:\n",
    "        return sum(Ynode.p(y, e) * enumerate_all(rest, extend(e, Y, y), bn)\n",
    "                   for y in bn.variable_values(Y))"
   ]
  },
  {
   "cell_type": "code",
   "execution_count": 115,
   "id": "29b1ac6f",
   "metadata": {},
   "outputs": [],
   "source": [
    "def enumeration_ask(X, e, bn):\n",
    "    \"\"\"\n",
    "    Compute the conditional probability distribution for the query variable `X` \n",
    "    given evidence `e` in the Bayesian network `bn`.\n",
    "    \"\"\"\n",
    "    assert X not in e, \"Query variable must not overlap with the evidence.\"\n",
    "    Q = ProbDist(X)\n",
    "    for xi in bn.variable_values(X):\n",
    "        Q[xi] = enumerate_all(bn.variables, extend(e, X, xi), bn)\n",
    "    return Q.normalize()"
   ]
  },
  {
   "cell_type": "code",
   "execution_count": 123,
   "id": "9bc0e2e7",
   "metadata": {},
   "outputs": [],
   "source": [
    "def event_values(event, variables):\n",
    "    \"\"\"\n",
    "    Generate a tuple containing the values of the specified variables from the event.\n",
    "    \n",
    "    Examples:\n",
    "    >>> event_values({'A': 10, 'B': 9, 'C': 8}, ['C', 'A'])\n",
    "    (8, 10)\n",
    "    >>> event_values((1, 2), ['C', 'A'])\n",
    "    (1, 2)\n",
    "    \"\"\"\n",
    "    if isinstance(event, tuple) and len(event) == len(variables):\n",
    "        return event\n",
    "    else:\n",
    "        return tuple(event[var] for var in variables)"
   ]
  },
  {
   "cell_type": "markdown",
   "id": "d7389904",
   "metadata": {},
   "source": [
    "# Design the Network Structure"
   ]
  },
  {
   "cell_type": "markdown",
   "id": "fe65308c",
   "metadata": {},
   "source": [
    "Find dependencies."
   ]
  },
  {
   "cell_type": "markdown",
   "id": "8b6c62c2",
   "metadata": {},
   "source": [
    "# Estimate Conditional Probabilities"
   ]
  },
  {
   "cell_type": "markdown",
   "id": "3483d1bf",
   "metadata": {},
   "source": [
    "If a node is a root node, then estimate probability directly from the data. Estimate conditional probabilities based on parent for non-root nodes."
   ]
  },
  {
   "cell_type": "code",
   "execution_count": 124,
   "id": "951ae0bb",
   "metadata": {},
   "outputs": [],
   "source": [
    "def compute_cpt(data, target, parents, alpha=1):\n",
    "    \"\"\"\n",
    "    Compute CPT with Laplace smoothing.\n",
    "    \n",
    "    Args:\n",
    "        \n",
    "        data: pandas DataFrame (training data)\n",
    "        target: str, target variable\n",
    "        parents: list of parent variable names\n",
    "        alpha: smoothing parameter (default=1)\n",
    "    \n",
    "    Returns:\n",
    "        cpt: dict { parent_values_tuple: { target_value: probability } }\n",
    "    \"\"\"\n",
    "    target_values = data[target].cat.categories\n",
    "    \n",
    "    print(\"TARGET VALUES: \", target_values)\n",
    "\n",
    "    if not parents:\n",
    "        # Marginal distribution of target\n",
    "        counts = defaultdict(lambda: alpha)\n",
    "        for val in data[target]:\n",
    "            counts[val] += 1\n",
    "        total = sum(counts.values())\n",
    "        cpt = {(): {tv: counts[tv]/total for tv in counts}}\n",
    "        return cpt\n",
    "\n",
    "    # Determine possible parent combinations\n",
    "    from itertools import product\n",
    "    parent_values_list = [data[p].cat.categories for p in parents]\n",
    "    print(\"PARENT VALUES LIST\", parent_values_list)\n",
    "    print(\"PARENTS\", parents)\n",
    "    print(\"data DIABATES CATEOGORIES\", data['DIABETES'].cat.categories)\n",
    "    parent_combinations = list(product(*parent_values_list)) if parents else [()]\n",
    "\n",
    "    # Initialize counts with alpha\n",
    "    counts = {pc: defaultdict(lambda: alpha) for pc in parent_combinations}\n",
    "\n",
    "    # Count occurrences\n",
    "    for _, row in data.iterrows():\n",
    "        pv = tuple(row[p] for p in parents) if parents else ()\n",
    "        tv = row[target]\n",
    "        counts[pv][tv] += 1\n",
    "\n",
    "    # Compute probabilities\n",
    "    cpt = {}\n",
    "    for pc in parent_combinations:\n",
    "        total = sum(counts[pc].values())\n",
    "        cpt[pc] = {tv: (counts[pc][tv] / total) for tv in counts[pc]}\n",
    "        \n",
    "    return cpt"
   ]
  },
  {
   "cell_type": "code",
   "execution_count": 125,
   "id": "cca9e8df",
   "metadata": {},
   "outputs": [],
   "source": [
    "def compute_all_cpts(train_data):\n",
    "    \"\"\"\n",
    "    Compute all CPTs and record the time taken.\n",
    "    \"\"\"\n",
    "    start_time = time.time()  # Start timing\n",
    "    \n",
    "    # Compute CPTs\n",
    "    cpt_icu = compute_cpt(train_data, 'ICU', ['PNEUMONIA'])\n",
    "    cpt_pneumonia = compute_cpt(train_data, 'PNEUMONIA', ['AGE_GROUP'])\n",
    "    cpt_age_group = compute_cpt(train_data, 'AGE_GROUP', [])\n",
    "    cpt_sex_group = compute_cpt(train_data, 'SEX', [])\n",
    "    cpt_obesity_group = compute_cpt(train_data, 'OBESITY', [])\n",
    "    cpt_diabetes_group = compute_cpt(train_data, 'DIABETES', [])\n",
    "    cpt_classification = compute_cpt(train_data, 'CLASIFFICATION_FINAL', ['SEX', 'OBESITY', 'DIABETES', 'ICU'])\n",
    "    \n",
    "    end_time = time.time()  # End timing\n",
    "    training_time = end_time - start_time\n",
    "    print(f\"Training Time (CPT Computation): {training_time:.4f} seconds\")\n",
    "\n",
    "    return {\n",
    "        \"cpt_classification\": cpt_classification,\n",
    "        \"cpt_icu\": cpt_icu,\n",
    "        \"cpt_pneumonia\": cpt_pneumonia,\n",
    "        \"cpt_age_group\": cpt_age_group,\n",
    "        \"cpt_sex_group\": cpt_sex_group,\n",
    "        \"cpt_obesity_group\": cpt_obesity_group,\n",
    "        \"cpt_diabetes_group\": cpt_diabetes_group\n",
    "    }, training_time"
   ]
  },
  {
   "cell_type": "code",
   "execution_count": 126,
   "id": "2ca59382",
   "metadata": {
    "scrolled": true
   },
   "outputs": [
    {
     "name": "stdout",
     "output_type": "stream",
     "text": [
      "TARGET VALUES:  Index([1, 2], dtype='int64')\n",
      "PARENT VALUES LIST [Index([1, 2], dtype='int64')]\n",
      "PARENTS ['PNEUMONIA']\n",
      "data DIABATES CATEOGORIES Index([1, 2], dtype='int64')\n",
      "TARGET VALUES:  Index([1, 2], dtype='int64')\n",
      "PARENT VALUES LIST [Index([0, 1, 2, 3, 4], dtype='int64')]\n",
      "PARENTS ['AGE_GROUP']\n",
      "data DIABATES CATEOGORIES Index([1, 2], dtype='int64')\n",
      "TARGET VALUES:  Index([0, 1, 2, 3, 4], dtype='int64')\n",
      "TARGET VALUES:  Index([1, 2], dtype='int64')\n",
      "TARGET VALUES:  Index([1, 2], dtype='int64')\n",
      "TARGET VALUES:  Index([1, 2], dtype='int64')\n",
      "TARGET VALUES:  Index([0, 1], dtype='int64')\n",
      "PARENT VALUES LIST [Index([1, 2], dtype='int64'), Index([1, 2], dtype='int64'), Index([1, 2], dtype='int64'), Index([1, 2], dtype='int64')]\n",
      "PARENTS ['SEX', 'OBESITY', 'DIABETES', 'ICU']\n",
      "data DIABATES CATEOGORIES Index([1, 2], dtype='int64')\n",
      "Training Time (CPT Computation): 109.4886 seconds\n"
     ]
    }
   ],
   "source": [
    "# Measure Training Time\n",
    "cpts, training_time = compute_all_cpts(train_data)"
   ]
  },
  {
   "cell_type": "markdown",
   "id": "39ea9488",
   "metadata": {},
   "source": [
    "# Implement Inference"
   ]
  },
  {
   "cell_type": "markdown",
   "id": "8ae3782a",
   "metadata": {},
   "source": [
    "Use the chain rule of probability to predict target given evidence."
   ]
  },
  {
   "cell_type": "code",
   "execution_count": 127,
   "id": "47de2a3c",
   "metadata": {},
   "outputs": [],
   "source": [
    "classification_node = MultiClassBayesNode(\"CLASIFFICATION_FINAL\", ['SEX', 'OBESITY', 'DIABETES', 'ICU'], cpts[\"cpt_classification\"])\n",
    "pneumonia_node = MultiClassBayesNode(\"PNEUMONIA\", [\"AGE_GROUP\"], cpts[\"cpt_pneumonia\"])\n",
    "icu_node = MultiClassBayesNode(\"ICU\", [\"PNEUMONIA\"], cpts[\"cpt_icu\"])\n",
    "age_node = MultiClassBayesNode(\"AGE_GROUP\", [], cpts[\"cpt_age_group\"])\n",
    "obesity_node = MultiClassBayesNode(\"OBESITY\", [], cpts[\"cpt_obesity_group\"])\n",
    "sex_node = MultiClassBayesNode(\"SEX\", [], cpts[\"cpt_sex_group\"])\n",
    "diabetes_node = MultiClassBayesNode(\"DIABETES\", [], cpts[\"cpt_diabetes_group\"])"
   ]
  },
  {
   "cell_type": "code",
   "execution_count": 128,
   "id": "c0c480fc",
   "metadata": {},
   "outputs": [],
   "source": [
    "classification_final = BayesNet([\n",
    "    age_node,\n",
    "    sex_node,\n",
    "    obesity_node,\n",
    "    diabetes_node,\n",
    "    pneumonia_node,\n",
    "    icu_node,\n",
    "    classification_node\n",
    "])"
   ]
  },
  {
   "cell_type": "markdown",
   "id": "3ce4477f",
   "metadata": {},
   "source": [
    "# Evaluate the Model"
   ]
  },
  {
   "cell_type": "code",
   "execution_count": 129,
   "id": "0ff130e8",
   "metadata": {},
   "outputs": [],
   "source": [
    "def predict_bayes_net(bn, evidence, query_var):\n",
    "    \"\"\"\n",
    "    Predict the most likely value of a query variable given evidence using the Bayesian Network.\n",
    "    \n",
    "    Args:\n",
    "        bn: Bayesian network.\n",
    "        evidence: Dictionary of evidence variables and their values.\n",
    "        query_var: Variable to predict.\n",
    "    \n",
    "    Returns:\n",
    "        The most likely value of the query variable.\n",
    "    \"\"\"\n",
    "    result = enumeration_ask(query_var, evidence, bn)\n",
    "    return max(result.prob, key=lambda k: result.prob[k])"
   ]
  },
  {
   "cell_type": "code",
   "execution_count": 130,
   "id": "3100abac",
   "metadata": {},
   "outputs": [],
   "source": [
    "def evaluate_bayes_net(bn, test_data, query_var):\n",
    "    \"\"\"\n",
    "    Evaluate the Bayesian Network on a test dataset.\n",
    "    \n",
    "    Args:\n",
    "        bn: Bayesian Network (BayesNet instance).\n",
    "        test_data: Test dataset (pandas DataFrame).\n",
    "        query_var: The target variable to predict.\n",
    "    \n",
    "    Returns:\n",
    "        Accuracy of the predictions as a float.\n",
    "    \"\"\"\n",
    "    correct = 0  # Count of correct predictions\n",
    "\n",
    "    for _, row in test_data.iterrows():\n",
    "        # Build evidence dictionary from test row\n",
    "        evidence = {\n",
    "            \"AGE_GROUP\": row[\"AGE_GROUP\"],\n",
    "            \"SEX\": row[\"SEX\"],\n",
    "            \"OBESITY\": row[\"OBESITY\"],\n",
    "            \"DIABETES\": row[\"DIABETES\"],\n",
    "            \"PNEUMONIA\": row[\"PNEUMONIA\"],\n",
    "            \"ICU\": row[\"ICU\"]\n",
    "        }\n",
    "\n",
    "        # Predict the target variable\n",
    "        prediction = predict_bayes_net(bn, evidence, query_var)\n",
    "        \n",
    "        \n",
    "        # Check if the prediction matches the actual value\n",
    "        if prediction == row[query_var]:\n",
    "            correct += 1\n",
    "\n",
    "    # Calculate accuracy\n",
    "    accuracy = correct / len(test_data)\n",
    "    return accuracy"
   ]
  },
  {
   "cell_type": "code",
   "execution_count": 131,
   "id": "6bb0adca",
   "metadata": {},
   "outputs": [],
   "source": [
    "def evaluate_bayes_net_with_time(bn, test_data, query_var):\n",
    "    \"\"\"\n",
    "    Evaluate the Bayesian Network on a test dataset and measure prediction time.\n",
    "    \"\"\"\n",
    "    y_true = []\n",
    "    y_pred = []\n",
    "\n",
    "    # Start Timing Predictions\n",
    "    start_time = time.time()\n",
    "\n",
    "    for _, row in test_data.iterrows():\n",
    "        evidence = {\n",
    "            \"AGE_GROUP\": row[\"AGE_GROUP\"],\n",
    "            \"SEX\": row[\"SEX\"],\n",
    "            \"OBESITY\": row[\"OBESITY\"],\n",
    "            \"DIABETES\": row[\"DIABETES\"],\n",
    "            \"PNEUMONIA\": row[\"PNEUMONIA\"],\n",
    "            \"ICU\": row[\"ICU\"]\n",
    "        }\n",
    "        prediction = predict_bayes_net(bn, evidence, query_var)\n",
    "        y_true.append(row[query_var])\n",
    "        y_pred.append(prediction)\n",
    "\n",
    "    end_time = time.time()\n",
    "    prediction_time = end_time - start_time\n",
    "\n",
    "    # Calculate Metrics\n",
    "    acc = accuracy_score(y_true, y_pred)\n",
    "    cm = confusion_matrix(y_true, y_pred)\n",
    "    report = classification_report(y_true, y_pred, zero_division=0)\n",
    "\n",
    "    print(\"Confusion Matrix:\\n\", cm)\n",
    "    print(\"\\nClassification Report:\\n\", report)\n",
    "    print(f\"Prediction Time: {prediction_time:.4f} seconds\")\n",
    "\n",
    "    metrics = {\n",
    "        \"accuracy\": acc,\n",
    "        \"prediction_time\": prediction_time\n",
    "    }\n",
    "    return metrics"
   ]
  },
  {
   "cell_type": "code",
   "execution_count": 132,
   "id": "c0bd46c5",
   "metadata": {
    "scrolled": true
   },
   "outputs": [
    {
     "name": "stdout",
     "output_type": "stream",
     "text": [
      "Confusion Matrix:\n",
      " [[124074   7245]\n",
      " [ 69890   8506]]\n",
      "\n",
      "Classification Report:\n",
      "               precision    recall  f1-score   support\n",
      "\n",
      "           0       0.64      0.94      0.76    131319\n",
      "           1       0.54      0.11      0.18     78396\n",
      "\n",
      "    accuracy                           0.63    209715\n",
      "   macro avg       0.59      0.53      0.47    209715\n",
      "weighted avg       0.60      0.63      0.55    209715\n",
      "\n",
      "Prediction Time: 25.3956 seconds\n",
      "\n",
      "--- Final Results ---\n",
      "Training Time: 109.4886 seconds\n",
      "Prediction Time: 25.3956 seconds\n",
      "Accuracy: 63.22%\n"
     ]
    }
   ],
   "source": [
    "# Measure Prediction Time\n",
    "metrics = evaluate_bayes_net_with_time(classification_final, test_data, \"CLASIFFICATION_FINAL\")\n",
    "\n",
    "# Final Output\n",
    "print(\"\\n--- Final Results ---\")\n",
    "print(f\"Training Time: {training_time:.4f} seconds\")\n",
    "print(f\"Prediction Time: {metrics['prediction_time']:.4f} seconds\")\n",
    "print(f\"Accuracy: {metrics['accuracy']:.2%}\")"
   ]
  },
  {
   "cell_type": "markdown",
   "id": "fa29a5a8",
   "metadata": {},
   "source": [
    "# For Later"
   ]
  },
  {
   "cell_type": "code",
   "execution_count": 133,
   "id": "58eef703",
   "metadata": {},
   "outputs": [
    {
     "data": {
      "text/plain": [
       "{'cpt_classification': {(1, 1, 1, 1): {1: 0.6524822695035462,\n",
       "   0: 0.3475177304964539},\n",
       "  (1, 1, 1, 2): {0: 0.5135019593872462, 1: 0.4864980406127538},\n",
       "  (1, 1, 2, 1): {0: 0.32945736434108525, 1: 0.6705426356589147},\n",
       "  (1, 1, 2, 2): {0: 0.5988674268869754, 1: 0.4011325731130246},\n",
       "  (1, 2, 1, 1): {1: 0.6389157792836399, 0: 0.3610842207163601},\n",
       "  (1, 2, 1, 2): {0: 0.546855527523633, 1: 0.4531444724763671},\n",
       "  (1, 2, 2, 1): {1: 0.5164705882352941, 0: 0.4835294117647059},\n",
       "  (1, 2, 2, 2): {1: 0.3181739188134517, 0: 0.6818260811865483},\n",
       "  (2, 1, 1, 1): {0: 0.3108108108108108, 1: 0.6891891891891891},\n",
       "  (2, 1, 1, 2): {0: 0.45563591462339037, 1: 0.5443640853766096},\n",
       "  (2, 1, 2, 1): {1: 0.7348314606741573, 0: 0.2651685393258427},\n",
       "  (2, 1, 2, 2): {0: 0.53274414123856, 1: 0.46725585876144005},\n",
       "  (2, 2, 1, 1): {0: 0.32887402452619846, 1: 0.6711259754738016},\n",
       "  (2, 2, 1, 2): {0: 0.49224692412394244, 1: 0.5077530758760576},\n",
       "  (2, 2, 2, 1): {0: 0.4107517849643007, 1: 0.5892482150356992},\n",
       "  (2, 2, 2, 2): {0: 0.6346968099171973, 1: 0.3653031900828026}},\n",
       " 'cpt_icu': {(1,): {2: 0.9006217829201495, 1: 0.09937821707985049},\n",
       "  (2,): {2: 0.9968022763829398, 1: 0.0031977236170602132}},\n",
       " 'cpt_pneumonia': {(0,): {2: 0.9231421722293933, 1: 0.07685782777060668},\n",
       "  (1,): {2: 0.946088949366182, 1: 0.053911050633817945},\n",
       "  (2,): {2: 0.8563595749001557, 1: 0.14364042509984432},\n",
       "  (3,): {2: 0.6569643868165322, 1: 0.34303561318346776},\n",
       "  (4,): {2: 0.5684156671024956, 1: 0.4315843328975044}},\n",
       " 'cpt_age_group': {(): {2: 0.3698235115304608,\n",
       "   1: 0.41612655194816806,\n",
       "   3: 0.1284354455126868,\n",
       "   0: 0.06464568196312875,\n",
       "   4: 0.020968809045555602}},\n",
       " 'cpt_sex_group': {(): {1: 0.5005412094003543, 2: 0.4994587905996457}},\n",
       " 'cpt_obesity_group': {(): {2: 0.8474004067415141, 1: 0.1525995932584859}},\n",
       " 'cpt_diabetes_group': {(): {2: 0.8810495647675065, 1: 0.11895043523249355}}}"
      ]
     },
     "execution_count": 133,
     "metadata": {},
     "output_type": "execute_result"
    }
   ],
   "source": [
    "cpts"
   ]
  },
  {
   "cell_type": "code",
   "execution_count": 134,
   "id": "5fc82de5",
   "metadata": {},
   "outputs": [],
   "source": [
    "def cpts_to_json(cpts):\n",
    "    serializable_cpts = {}\n",
    "    for var, cpt in cpts.items():\n",
    "        serializable_cpts[var] = {\n",
    "            str(parent_comb): {str(k): v for k, v in target_probs.items()}\n",
    "            for parent_comb, target_probs in cpt.items()\n",
    "        }\n",
    "    return serializable_cpts"
   ]
  },
  {
   "cell_type": "code",
   "execution_count": 137,
   "id": "874f01ab",
   "metadata": {},
   "outputs": [
    {
     "name": "stdout",
     "output_type": "stream",
     "text": [
      "CPTs saved successfully to covid_cpts.json!\n"
     ]
    }
   ],
   "source": [
    "# Save the CPTs to a JSON file\n",
    "cpt_json = cpts_to_json(cpts)\n",
    "with open(\"covid_cpts.json\", \"w\") as f:\n",
    "    json.dump(cpt_json, f, indent=4)\n",
    "print(\"CPTs saved successfully to covid_cpts.json!\")"
   ]
  },
  {
   "cell_type": "code",
   "execution_count": 138,
   "id": "8b12c3d8",
   "metadata": {},
   "outputs": [
    {
     "data": {
      "text/plain": [
       "{'cpt_classification': {'(1, 1, 1, 1)': {'1': 0.6524822695035462,\n",
       "   '0': 0.3475177304964539},\n",
       "  '(1, 1, 1, 2)': {'0': 0.5135019593872462, '1': 0.4864980406127538},\n",
       "  '(1, 1, 2, 1)': {'0': 0.32945736434108525, '1': 0.6705426356589147},\n",
       "  '(1, 1, 2, 2)': {'0': 0.5988674268869754, '1': 0.4011325731130246},\n",
       "  '(1, 2, 1, 1)': {'1': 0.6389157792836399, '0': 0.3610842207163601},\n",
       "  '(1, 2, 1, 2)': {'0': 0.546855527523633, '1': 0.4531444724763671},\n",
       "  '(1, 2, 2, 1)': {'1': 0.5164705882352941, '0': 0.4835294117647059},\n",
       "  '(1, 2, 2, 2)': {'1': 0.3181739188134517, '0': 0.6818260811865483},\n",
       "  '(2, 1, 1, 1)': {'0': 0.3108108108108108, '1': 0.6891891891891891},\n",
       "  '(2, 1, 1, 2)': {'0': 0.45563591462339037, '1': 0.5443640853766096},\n",
       "  '(2, 1, 2, 1)': {'1': 0.7348314606741573, '0': 0.2651685393258427},\n",
       "  '(2, 1, 2, 2)': {'0': 0.53274414123856, '1': 0.46725585876144005},\n",
       "  '(2, 2, 1, 1)': {'0': 0.32887402452619846, '1': 0.6711259754738016},\n",
       "  '(2, 2, 1, 2)': {'0': 0.49224692412394244, '1': 0.5077530758760576},\n",
       "  '(2, 2, 2, 1)': {'0': 0.4107517849643007, '1': 0.5892482150356992},\n",
       "  '(2, 2, 2, 2)': {'0': 0.6346968099171973, '1': 0.3653031900828026}},\n",
       " 'cpt_icu': {'(1,)': {'2': 0.9006217829201495, '1': 0.09937821707985049},\n",
       "  '(2,)': {'2': 0.9968022763829398, '1': 0.0031977236170602132}},\n",
       " 'cpt_pneumonia': {'(0,)': {'2': 0.9231421722293933, '1': 0.07685782777060668},\n",
       "  '(1,)': {'2': 0.946088949366182, '1': 0.053911050633817945},\n",
       "  '(2,)': {'2': 0.8563595749001557, '1': 0.14364042509984432},\n",
       "  '(3,)': {'2': 0.6569643868165322, '1': 0.34303561318346776},\n",
       "  '(4,)': {'2': 0.5684156671024956, '1': 0.4315843328975044}},\n",
       " 'cpt_age_group': {'()': {'2': 0.3698235115304608,\n",
       "   '1': 0.41612655194816806,\n",
       "   '3': 0.1284354455126868,\n",
       "   '0': 0.06464568196312875,\n",
       "   '4': 0.020968809045555602}},\n",
       " 'cpt_sex_group': {'()': {'1': 0.5005412094003543, '2': 0.4994587905996457}},\n",
       " 'cpt_obesity_group': {'()': {'2': 0.8474004067415141,\n",
       "   '1': 0.1525995932584859}},\n",
       " 'cpt_diabetes_group': {'()': {'2': 0.8810495647675065,\n",
       "   '1': 0.11895043523249355}}}"
      ]
     },
     "execution_count": 138,
     "metadata": {},
     "output_type": "execute_result"
    }
   ],
   "source": [
    "cpt_json"
   ]
  }
 ],
 "metadata": {
  "kernelspec": {
   "display_name": "Python 3 (ipykernel)",
   "language": "python",
   "name": "python3"
  },
  "language_info": {
   "codemirror_mode": {
    "name": "ipython",
    "version": 3
   },
   "file_extension": ".py",
   "mimetype": "text/x-python",
   "name": "python",
   "nbconvert_exporter": "python",
   "pygments_lexer": "ipython3",
   "version": "3.11.1"
  }
 },
 "nbformat": 4,
 "nbformat_minor": 5
}
