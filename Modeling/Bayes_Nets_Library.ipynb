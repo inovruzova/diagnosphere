{
 "cells": [
  {
   "cell_type": "code",
   "execution_count": 18,
   "metadata": {},
   "outputs": [
    {
     "name": "stdout",
     "output_type": "stream",
     "text": [
      "Requirement already satisfied: pgmpy in /opt/anaconda3/lib/python3.12/site-packages (0.1.26)\n",
      "Requirement already satisfied: networkx in /opt/anaconda3/lib/python3.12/site-packages (from pgmpy) (3.3)\n",
      "Requirement already satisfied: numpy in /opt/anaconda3/lib/python3.12/site-packages (from pgmpy) (1.26.4)\n",
      "Requirement already satisfied: scipy in /opt/anaconda3/lib/python3.12/site-packages (from pgmpy) (1.13.1)\n",
      "Requirement already satisfied: scikit-learn in /opt/anaconda3/lib/python3.12/site-packages (from pgmpy) (1.5.1)\n",
      "Requirement already satisfied: pandas in /opt/anaconda3/lib/python3.12/site-packages (from pgmpy) (2.2.2)\n",
      "Requirement already satisfied: pyparsing in /opt/anaconda3/lib/python3.12/site-packages (from pgmpy) (3.1.2)\n",
      "Requirement already satisfied: torch in /opt/anaconda3/lib/python3.12/site-packages (from pgmpy) (2.5.1)\n",
      "Requirement already satisfied: statsmodels in /opt/anaconda3/lib/python3.12/site-packages (from pgmpy) (0.14.2)\n",
      "Requirement already satisfied: tqdm in /opt/anaconda3/lib/python3.12/site-packages (from pgmpy) (4.66.5)\n",
      "Requirement already satisfied: joblib in /opt/anaconda3/lib/python3.12/site-packages (from pgmpy) (1.4.2)\n",
      "Requirement already satisfied: opt-einsum in /opt/anaconda3/lib/python3.12/site-packages (from pgmpy) (3.4.0)\n",
      "Requirement already satisfied: xgboost in /opt/anaconda3/lib/python3.12/site-packages (from pgmpy) (2.1.2)\n",
      "Requirement already satisfied: google-generativeai in /opt/anaconda3/lib/python3.12/site-packages (from pgmpy) (0.8.3)\n",
      "Requirement already satisfied: google-ai-generativelanguage==0.6.10 in /opt/anaconda3/lib/python3.12/site-packages (from google-generativeai->pgmpy) (0.6.10)\n",
      "Requirement already satisfied: google-api-core in /opt/anaconda3/lib/python3.12/site-packages (from google-generativeai->pgmpy) (2.23.0)\n",
      "Requirement already satisfied: google-api-python-client in /opt/anaconda3/lib/python3.12/site-packages (from google-generativeai->pgmpy) (2.154.0)\n",
      "Requirement already satisfied: google-auth>=2.15.0 in /opt/anaconda3/lib/python3.12/site-packages (from google-generativeai->pgmpy) (2.36.0)\n",
      "Requirement already satisfied: protobuf in /opt/anaconda3/lib/python3.12/site-packages (from google-generativeai->pgmpy) (5.29.0)\n",
      "Requirement already satisfied: pydantic in /opt/anaconda3/lib/python3.12/site-packages (from google-generativeai->pgmpy) (2.8.2)\n",
      "Requirement already satisfied: typing-extensions in /opt/anaconda3/lib/python3.12/site-packages (from google-generativeai->pgmpy) (4.11.0)\n",
      "Requirement already satisfied: proto-plus<2.0.0dev,>=1.22.3 in /opt/anaconda3/lib/python3.12/site-packages (from google-ai-generativelanguage==0.6.10->google-generativeai->pgmpy) (1.25.0)\n",
      "Requirement already satisfied: python-dateutil>=2.8.2 in /opt/anaconda3/lib/python3.12/site-packages (from pandas->pgmpy) (2.9.0.post0)\n",
      "Requirement already satisfied: pytz>=2020.1 in /opt/anaconda3/lib/python3.12/site-packages (from pandas->pgmpy) (2024.1)\n",
      "Requirement already satisfied: tzdata>=2022.7 in /opt/anaconda3/lib/python3.12/site-packages (from pandas->pgmpy) (2023.3)\n",
      "Requirement already satisfied: threadpoolctl>=3.1.0 in /opt/anaconda3/lib/python3.12/site-packages (from scikit-learn->pgmpy) (3.5.0)\n",
      "Requirement already satisfied: patsy>=0.5.6 in /opt/anaconda3/lib/python3.12/site-packages (from statsmodels->pgmpy) (0.5.6)\n",
      "Requirement already satisfied: packaging>=21.3 in /opt/anaconda3/lib/python3.12/site-packages (from statsmodels->pgmpy) (24.1)\n",
      "Requirement already satisfied: filelock in /opt/anaconda3/lib/python3.12/site-packages (from torch->pgmpy) (3.13.1)\n",
      "Requirement already satisfied: jinja2 in /opt/anaconda3/lib/python3.12/site-packages (from torch->pgmpy) (3.1.4)\n",
      "Requirement already satisfied: fsspec in /opt/anaconda3/lib/python3.12/site-packages (from torch->pgmpy) (2024.6.1)\n",
      "Requirement already satisfied: setuptools in /opt/anaconda3/lib/python3.12/site-packages (from torch->pgmpy) (75.1.0)\n",
      "Requirement already satisfied: sympy==1.13.1 in /opt/anaconda3/lib/python3.12/site-packages (from torch->pgmpy) (1.13.1)\n",
      "Requirement already satisfied: mpmath<1.4,>=1.1.0 in /opt/anaconda3/lib/python3.12/site-packages (from sympy==1.13.1->torch->pgmpy) (1.3.0)\n",
      "Requirement already satisfied: googleapis-common-protos<2.0.dev0,>=1.56.2 in /opt/anaconda3/lib/python3.12/site-packages (from google-api-core->google-generativeai->pgmpy) (1.66.0)\n",
      "Requirement already satisfied: requests<3.0.0.dev0,>=2.18.0 in /opt/anaconda3/lib/python3.12/site-packages (from google-api-core->google-generativeai->pgmpy) (2.32.3)\n",
      "Requirement already satisfied: cachetools<6.0,>=2.0.0 in /opt/anaconda3/lib/python3.12/site-packages (from google-auth>=2.15.0->google-generativeai->pgmpy) (5.3.3)\n",
      "Requirement already satisfied: pyasn1-modules>=0.2.1 in /opt/anaconda3/lib/python3.12/site-packages (from google-auth>=2.15.0->google-generativeai->pgmpy) (0.2.8)\n",
      "Requirement already satisfied: rsa<5,>=3.1.4 in /opt/anaconda3/lib/python3.12/site-packages (from google-auth>=2.15.0->google-generativeai->pgmpy) (4.9)\n",
      "Requirement already satisfied: six in /opt/anaconda3/lib/python3.12/site-packages (from patsy>=0.5.6->statsmodels->pgmpy) (1.16.0)\n",
      "Requirement already satisfied: httplib2<1.dev0,>=0.19.0 in /opt/anaconda3/lib/python3.12/site-packages (from google-api-python-client->google-generativeai->pgmpy) (0.22.0)\n",
      "Requirement already satisfied: google-auth-httplib2<1.0.0,>=0.2.0 in /opt/anaconda3/lib/python3.12/site-packages (from google-api-python-client->google-generativeai->pgmpy) (0.2.0)\n",
      "Requirement already satisfied: uritemplate<5,>=3.0.1 in /opt/anaconda3/lib/python3.12/site-packages (from google-api-python-client->google-generativeai->pgmpy) (4.1.1)\n",
      "Requirement already satisfied: MarkupSafe>=2.0 in /opt/anaconda3/lib/python3.12/site-packages (from jinja2->torch->pgmpy) (2.1.3)\n",
      "Requirement already satisfied: annotated-types>=0.4.0 in /opt/anaconda3/lib/python3.12/site-packages (from pydantic->google-generativeai->pgmpy) (0.6.0)\n",
      "Requirement already satisfied: pydantic-core==2.20.1 in /opt/anaconda3/lib/python3.12/site-packages (from pydantic->google-generativeai->pgmpy) (2.20.1)\n",
      "Requirement already satisfied: grpcio<2.0dev,>=1.33.2 in /opt/anaconda3/lib/python3.12/site-packages (from google-api-core[grpc]!=2.0.*,!=2.1.*,!=2.10.*,!=2.2.*,!=2.3.*,!=2.4.*,!=2.5.*,!=2.6.*,!=2.7.*,!=2.8.*,!=2.9.*,<3.0.0dev,>=1.34.1->google-ai-generativelanguage==0.6.10->google-generativeai->pgmpy) (1.68.1)\n",
      "Requirement already satisfied: grpcio-status<2.0.dev0,>=1.33.2 in /opt/anaconda3/lib/python3.12/site-packages (from google-api-core[grpc]!=2.0.*,!=2.1.*,!=2.10.*,!=2.2.*,!=2.3.*,!=2.4.*,!=2.5.*,!=2.6.*,!=2.7.*,!=2.8.*,!=2.9.*,<3.0.0dev,>=1.34.1->google-ai-generativelanguage==0.6.10->google-generativeai->pgmpy) (1.68.1)\n",
      "Requirement already satisfied: pyasn1<0.5.0,>=0.4.6 in /opt/anaconda3/lib/python3.12/site-packages (from pyasn1-modules>=0.2.1->google-auth>=2.15.0->google-generativeai->pgmpy) (0.4.8)\n",
      "Requirement already satisfied: charset-normalizer<4,>=2 in /opt/anaconda3/lib/python3.12/site-packages (from requests<3.0.0.dev0,>=2.18.0->google-api-core->google-generativeai->pgmpy) (3.3.2)\n",
      "Requirement already satisfied: idna<4,>=2.5 in /opt/anaconda3/lib/python3.12/site-packages (from requests<3.0.0.dev0,>=2.18.0->google-api-core->google-generativeai->pgmpy) (3.7)\n",
      "Requirement already satisfied: urllib3<3,>=1.21.1 in /opt/anaconda3/lib/python3.12/site-packages (from requests<3.0.0.dev0,>=2.18.0->google-api-core->google-generativeai->pgmpy) (2.2.3)\n",
      "Requirement already satisfied: certifi>=2017.4.17 in /opt/anaconda3/lib/python3.12/site-packages (from requests<3.0.0.dev0,>=2.18.0->google-api-core->google-generativeai->pgmpy) (2024.8.30)\n"
     ]
    }
   ],
   "source": [
    "# install pgmpy\n",
    "!pip install pgmpy"
   ]
  },
  {
   "cell_type": "code",
   "execution_count": 4,
   "metadata": {},
   "outputs": [],
   "source": [
    "import pandas as pd\n",
    "\n",
    "df = pd.read_csv('../data/covid_preprocessed.csv')"
   ]
  },
  {
   "cell_type": "code",
   "execution_count": 5,
   "metadata": {},
   "outputs": [
    {
     "name": "stdout",
     "output_type": "stream",
     "text": [
      "Defined Bayesian Network structure:\n",
      "[('AGE_GROUP', 'PNEUMONIA'), ('PNEUMONIA', 'ICU'), ('ICU', 'CLASIFFICATION_FINAL'), ('SEX', 'CLASIFFICATION_FINAL'), ('OBESITY', 'CLASIFFICATION_FINAL'), ('DIABETES', 'CLASIFFICATION_FINAL')]\n"
     ]
    }
   ],
   "source": [
    "from pgmpy.models import BayesianNetwork\n",
    "from pgmpy.estimators import HillClimbSearch, BicScore\n",
    "from pgmpy.estimators import ParameterEstimator\n",
    "\n",
    "# Define Bayesian Network manually\n",
    "model = BayesianNetwork([\n",
    "    ('AGE_GROUP', 'PNEUMONIA'),\n",
    "    ('PNEUMONIA', 'ICU'),\n",
    "    ('ICU', 'CLASIFFICATION_FINAL'),\n",
    "    ('SEX', 'CLASIFFICATION_FINAL'),\n",
    "    ('OBESITY', 'CLASIFFICATION_FINAL'),\n",
    "    ('DIABETES', 'CLASIFFICATION_FINAL')\n",
    "])\n",
    "\n",
    "# Print the defined structure\n",
    "print(\"Defined Bayesian Network structure:\")\n",
    "print(model.edges())"
   ]
  },
  {
   "cell_type": "code",
   "execution_count": 6,
   "metadata": {},
   "outputs": [
    {
     "name": "stdout",
     "output_type": "stream",
     "text": [
      "\n",
      "Conditional Probability Distributions (CPDs):\n",
      "+--------------+-----------+\n",
      "| AGE_GROUP(0) | 0.0645409 |\n",
      "+--------------+-----------+\n",
      "| AGE_GROUP(1) | 0.416066  |\n",
      "+--------------+-----------+\n",
      "| AGE_GROUP(2) | 0.370065  |\n",
      "+--------------+-----------+\n",
      "| AGE_GROUP(3) | 0.128401  |\n",
      "+--------------+-----------+\n",
      "| AGE_GROUP(4) | 0.0209274 |\n",
      "+--------------+-----------+\n",
      "+--------------+---------------------+-----+---------------------+--------------------+\n",
      "| AGE_GROUP    | AGE_GROUP(0)        | ... | AGE_GROUP(3)        | AGE_GROUP(4)       |\n",
      "+--------------+---------------------+-----+---------------------+--------------------+\n",
      "| PNEUMONIA(1) | 0.07636385129144749 | ... | 0.34333546249944297 | 0.4308694859642727 |\n",
      "+--------------+---------------------+-----+---------------------+--------------------+\n",
      "| PNEUMONIA(2) | 0.9236361487085525  | ... | 0.6566645375005571  | 0.5691305140357273 |\n",
      "+--------------+---------------------+-----+---------------------+--------------------+\n",
      "+-----------+---------------------+----------------------+\n",
      "| PNEUMONIA | PNEUMONIA(1)        | PNEUMONIA(2)         |\n",
      "+-----------+---------------------+----------------------+\n",
      "| ICU(1)    | 0.09956583213127865 | 0.003208454911577624 |\n",
      "+-----------+---------------------+----------------------+\n",
      "| ICU(2)    | 0.9004341678687213  | 0.9967915450884224   |\n",
      "+-----------+---------------------+----------------------+\n",
      "+-------------------------+---------------------+-----+--------------------+---------------------+\n",
      "| DIABETES                | DIABETES(1)         | ... | DIABETES(2)        | DIABETES(2)         |\n",
      "+-------------------------+---------------------+-----+--------------------+---------------------+\n",
      "| ICU                     | ICU(1)              | ... | ICU(2)             | ICU(2)              |\n",
      "+-------------------------+---------------------+-----+--------------------+---------------------+\n",
      "| OBESITY                 | OBESITY(1)          | ... | OBESITY(2)         | OBESITY(2)          |\n",
      "+-------------------------+---------------------+-----+--------------------+---------------------+\n",
      "| SEX                     | SEX(1)              | ... | SEX(1)             | SEX(2)              |\n",
      "+-------------------------+---------------------+-----+--------------------+---------------------+\n",
      "| CLASIFFICATION_FINAL(0) | 0.34545454545454546 | ... | 0.6818871669515986 | 0.6344954268876047  |\n",
      "+-------------------------+---------------------+-----+--------------------+---------------------+\n",
      "| CLASIFFICATION_FINAL(1) | 0.6545454545454545  | ... | 0.3181128330484014 | 0.36550457311239526 |\n",
      "+-------------------------+---------------------+-----+--------------------+---------------------+\n",
      "+--------+----------+\n",
      "| SEX(1) | 0.500741 |\n",
      "+--------+----------+\n",
      "| SEX(2) | 0.499259 |\n",
      "+--------+----------+\n",
      "+------------+----------+\n",
      "| OBESITY(1) | 0.152413 |\n",
      "+------------+----------+\n",
      "| OBESITY(2) | 0.847587 |\n",
      "+------------+----------+\n",
      "+-------------+----------+\n",
      "| DIABETES(1) | 0.119199 |\n",
      "+-------------+----------+\n",
      "| DIABETES(2) | 0.880801 |\n",
      "+-------------+----------+\n"
     ]
    }
   ],
   "source": [
    "from pgmpy.estimators import MaximumLikelihoodEstimator\n",
    "\n",
    "# Learn CPDs using Maximum Likelihood Estimation\n",
    "model.fit(df, estimator=MaximumLikelihoodEstimator)\n",
    "\n",
    "print(\"\\nConditional Probability Distributions (CPDs):\")\n",
    "for cpd in model.get_cpds():\n",
    "    print(cpd)"
   ]
  },
  {
   "cell_type": "code",
   "execution_count": 9,
   "metadata": {},
   "outputs": [
    {
     "name": "stdout",
     "output_type": "stream",
     "text": [
      "\n",
      "Inference result:\n",
      "+-------------------------+-----------------------------+\n",
      "| CLASIFFICATION_FINAL    |   phi(CLASIFFICATION_FINAL) |\n",
      "+=========================+=============================+\n",
      "| CLASIFFICATION_FINAL(0) |                      0.6519 |\n",
      "+-------------------------+-----------------------------+\n",
      "| CLASIFFICATION_FINAL(1) |                      0.3481 |\n",
      "+-------------------------+-----------------------------+\n"
     ]
    }
   ],
   "source": [
    "from pgmpy.inference import VariableElimination\n",
    "\n",
    "# Perform inference\n",
    "inference = VariableElimination(model)\n",
    "\n",
    "# Example: Probability of classification (COVID-19 status) given some evidence\n",
    "query_result = inference.query(variables=['CLASIFFICATION_FINAL'], evidence={'AGE_GROUP': 0, 'SEX': 1})\n",
    "print(\"\\nInference result:\")\n",
    "print(query_result)"
   ]
  },
  {
   "cell_type": "code",
   "execution_count": 10,
   "metadata": {},
   "outputs": [],
   "source": [
    "from sklearn.model_selection import train_test_split\n",
    "\n",
    "X = df.drop(columns=['CLASIFFICATION_FINAL']) \n",
    "y = df['CLASIFFICATION_FINAL']\n",
    "\n",
    "X_train, X_test, y_train, y_test = train_test_split(X, y, test_size=0.2, random_state=42)\n",
    "\n",
    "train_data = pd.concat([X_train, y_train], axis=1)\n",
    "test_data = pd.concat([X_test, y_test], axis=1)"
   ]
  },
  {
   "cell_type": "code",
   "execution_count": 11,
   "metadata": {},
   "outputs": [
    {
     "name": "stderr",
     "output_type": "stream",
     "text": [
      "WARNING:pgmpy:Replacing existing CPD for AGE_GROUP\n",
      "WARNING:pgmpy:Replacing existing CPD for PNEUMONIA\n",
      "WARNING:pgmpy:Replacing existing CPD for ICU\n",
      "WARNING:pgmpy:Replacing existing CPD for CLASIFFICATION_FINAL\n",
      "WARNING:pgmpy:Replacing existing CPD for SEX\n",
      "WARNING:pgmpy:Replacing existing CPD for OBESITY\n",
      "WARNING:pgmpy:Replacing existing CPD for DIABETES\n"
     ]
    },
    {
     "name": "stdout",
     "output_type": "stream",
     "text": [
      "\n",
      "Learned CPDs:\n",
      "+--------------+-----------+\n",
      "| AGE_GROUP(0) | 0.0646067 |\n",
      "+--------------+-----------+\n",
      "| AGE_GROUP(1) | 0.416055  |\n",
      "+--------------+-----------+\n",
      "| AGE_GROUP(2) | 0.370171  |\n",
      "+--------------+-----------+\n",
      "| AGE_GROUP(3) | 0.128236  |\n",
      "+--------------+-----------+\n",
      "| AGE_GROUP(4) | 0.0209308 |\n",
      "+--------------+-----------+\n",
      "+--------------+---------------------+-----+--------------------+---------------------+\n",
      "| AGE_GROUP    | AGE_GROUP(0)        | ... | AGE_GROUP(3)       | AGE_GROUP(4)        |\n",
      "+--------------+---------------------+-----+--------------------+---------------------+\n",
      "| PNEUMONIA(1) | 0.07585430659089232 | ... | 0.3442252630796118 | 0.43057295819569424 |\n",
      "+--------------+---------------------+-----+--------------------+---------------------+\n",
      "| PNEUMONIA(2) | 0.9241456934091077  | ... | 0.6557747369203882 | 0.5694270418043057  |\n",
      "+--------------+---------------------+-----+--------------------+---------------------+\n",
      "+-----------+---------------------+-----------------------+\n",
      "| PNEUMONIA | PNEUMONIA(1)        | PNEUMONIA(2)          |\n",
      "+-----------+---------------------+-----------------------+\n",
      "| ICU(1)    | 0.09915562854796672 | 0.0032566343433898717 |\n",
      "+-----------+---------------------+-----------------------+\n",
      "| ICU(2)    | 0.9008443714520332  | 0.9967433656566101    |\n",
      "+-----------+---------------------+-----------------------+\n",
      "+-------------------------+--------------------+-----+---------------------+---------------------+\n",
      "| DIABETES                | DIABETES(1)        | ... | DIABETES(2)         | DIABETES(2)         |\n",
      "+-------------------------+--------------------+-----+---------------------+---------------------+\n",
      "| ICU                     | ICU(1)             | ... | ICU(2)              | ICU(2)              |\n",
      "+-------------------------+--------------------+-----+---------------------+---------------------+\n",
      "| OBESITY                 | OBESITY(1)         | ... | OBESITY(2)          | OBESITY(2)          |\n",
      "+-------------------------+--------------------+-----+---------------------+---------------------+\n",
      "| SEX                     | SEX(1)             | ... | SEX(1)              | SEX(2)              |\n",
      "+-------------------------+--------------------+-----+---------------------+---------------------+\n",
      "| CLASIFFICATION_FINAL(0) | 0.3496376811594203 | ... | 0.6821068572239837  | 0.6342067751533067  |\n",
      "+-------------------------+--------------------+-----+---------------------+---------------------+\n",
      "| CLASIFFICATION_FINAL(1) | 0.6503623188405797 | ... | 0.31789314277601627 | 0.36579322484669324 |\n",
      "+-------------------------+--------------------+-----+---------------------+---------------------+\n",
      "+--------+----------+\n",
      "| SEX(1) | 0.500625 |\n",
      "+--------+----------+\n",
      "| SEX(2) | 0.499375 |\n",
      "+--------+----------+\n",
      "+------------+----------+\n",
      "| OBESITY(1) | 0.152185 |\n",
      "+------------+----------+\n",
      "| OBESITY(2) | 0.847815 |\n",
      "+------------+----------+\n",
      "+-------------+----------+\n",
      "| DIABETES(1) | 0.119267 |\n",
      "+-------------+----------+\n",
      "| DIABETES(2) | 0.880733 |\n",
      "+-------------+----------+\n"
     ]
    }
   ],
   "source": [
    "# Fit the model using Maximum Likelihood Estimation\n",
    "model.fit(train_data, estimator=MaximumLikelihoodEstimator)\n",
    "print(\"\\nLearned CPDs:\")\n",
    "for cpd in model.get_cpds():\n",
    "    print(cpd)"
   ]
  },
  {
   "cell_type": "code",
   "execution_count": 13,
   "metadata": {},
   "outputs": [
    {
     "name": "stdout",
     "output_type": "stream",
     "text": [
      "\n",
      "Inference result for test evidence:\n",
      "+-------------------------+-----------------------------+\n",
      "| CLASIFFICATION_FINAL    |   phi(CLASIFFICATION_FINAL) |\n",
      "+=========================+=============================+\n",
      "| CLASIFFICATION_FINAL(0) |                      0.6523 |\n",
      "+-------------------------+-----------------------------+\n",
      "| CLASIFFICATION_FINAL(1) |                      0.3477 |\n",
      "+-------------------------+-----------------------------+\n"
     ]
    }
   ],
   "source": [
    "from pgmpy.inference import VariableElimination\n",
    "\n",
    "inference = VariableElimination(model)\n",
    "\n",
    "evidence = {'AGE_GROUP': 1, 'SEX': 1}  # Example evidence\n",
    "query_result = inference.query(variables=['CLASIFFICATION_FINAL'], evidence=evidence)\n",
    "print(\"\\nInference result for test evidence:\")\n",
    "print(query_result)"
   ]
  },
  {
   "cell_type": "code",
   "execution_count": 14,
   "metadata": {},
   "outputs": [],
   "source": [
    "# Function to predict probabilities for each test case\n",
    "def predict_probabilities(test_data, inference_engine, target):\n",
    "    probabilities = []\n",
    "    for _, row in test_data.iterrows():\n",
    "        # Prepare evidence by removing the target variable\n",
    "        evidence = {col: row[col] for col in test_data.columns if col != target}\n",
    "        \n",
    "        # Perform inference\n",
    "        try:\n",
    "            prob = inference_engine.query(variables=[target], evidence=evidence)\n",
    "            probabilities.append(prob.values[1])  # Probability of target = 1\n",
    "        except Exception as e:\n",
    "            print(f\"Error with evidence {evidence}: {e}\")\n",
    "            probabilities.append(0.5)  # Assign a neutral probability in case of error\n",
    "    return probabilities\n",
    "\n",
    "# Ensure test_data contains only the columns relevant to the Bayesian Network\n",
    "network_nodes = list(model.nodes())  # Nodes in the Bayesian Network\n",
    "filtered_test_data = test_data[network_nodes]\n",
    "\n",
    "# Predict probabilities\n",
    "test_probabilities = predict_probabilities(filtered_test_data, inference, 'CLASIFFICATION_FINAL')\n",
    "\n",
    "# Convert probabilities to binary predictions based on a threshold\n",
    "threshold = 0.5\n",
    "test_predictions = [1 if prob >= threshold else 0 for prob in test_probabilities]"
   ]
  },
  {
   "cell_type": "code",
   "execution_count": 15,
   "metadata": {},
   "outputs": [
    {
     "name": "stdout",
     "output_type": "stream",
     "text": [
      "\n",
      "Evaluation Metrics:\n",
      "Accuracy: 0.63\n",
      "Precision: 0.54\n",
      "Recall: 0.11\n",
      "F1-Score: 0.18\n",
      "Log-Loss: 0.65\n"
     ]
    }
   ],
   "source": [
    "from sklearn.metrics import accuracy_score, precision_score, recall_score, f1_score, log_loss\n",
    "\n",
    "accuracy = accuracy_score(y_test, test_predictions)\n",
    "precision = precision_score(y_test, test_predictions)\n",
    "recall = recall_score(y_test, test_predictions)\n",
    "f1 = f1_score(y_test, test_predictions)\n",
    "logloss = log_loss(y_test, test_probabilities)\n",
    "\n",
    "print(\"\\nEvaluation Metrics:\")\n",
    "print(f\"Accuracy: {accuracy:.2f}\")\n",
    "print(f\"Precision: {precision:.2f}\")\n",
    "print(f\"Recall: {recall:.2f}\")\n",
    "print(f\"F1-Score: {f1:.2f}\")\n",
    "print(f\"Log-Loss: {logloss:.2f}\")"
   ]
  }
 ],
 "metadata": {
  "kernelspec": {
   "display_name": "Python 3 (ipykernel)",
   "language": "python",
   "name": "python3"
  },
  "language_info": {
   "codemirror_mode": {
    "name": "ipython",
    "version": 3
   },
   "file_extension": ".py",
   "mimetype": "text/x-python",
   "name": "python",
   "nbconvert_exporter": "python",
   "pygments_lexer": "ipython3",
   "version": "3.11.1"
  }
 },
 "nbformat": 4,
 "nbformat_minor": 4
}
