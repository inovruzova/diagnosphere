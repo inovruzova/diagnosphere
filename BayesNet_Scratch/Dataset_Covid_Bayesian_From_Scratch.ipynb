{
 "cells": [
  {
   "cell_type": "markdown",
   "id": "07f9d0f7",
   "metadata": {},
   "source": [
    "# Understanding Bayes Nets"
   ]
  },
  {
   "cell_type": "markdown",
   "id": "ba9c7526",
   "metadata": {},
   "source": [
    "We have:\n",
    "\n",
    "- Nodes: Variables (features like Age, Stress_Level and Mental_Health_Condition)\n",
    "- Edges: Dependencies between variables (Stress_Level -> Mental_Health_Condition)\n",
    "\n",
    "Bayes Nets encode the joint probability distribution of variables, allowing inference given evidence."
   ]
  },
  {
   "cell_type": "markdown",
   "id": "6c8bb5f9",
   "metadata": {},
   "source": [
    "# Setup"
   ]
  },
  {
   "cell_type": "code",
   "execution_count": 356,
   "id": "c3d23242",
   "metadata": {},
   "outputs": [],
   "source": [
    "from inspect import getsource\n",
    "from IPython.display import display\n",
    "import pandas as pd\n",
    "import numpy as np\n",
    "from collections import defaultdict, Counter\n",
    "import itertools\n",
    "import math\n",
    "import random\n",
    "from sklearn.model_selection import train_test_split\n",
    "from sklearn.linear_model import LogisticRegression\n",
    "from matplotlib import pyplot"
   ]
  },
  {
   "cell_type": "code",
   "execution_count": 357,
   "id": "b74c44ee",
   "metadata": {},
   "outputs": [],
   "source": [
    "random.seed(42)"
   ]
  },
  {
   "cell_type": "code",
   "execution_count": 358,
   "id": "d2c95e2f",
   "metadata": {},
   "outputs": [],
   "source": [
    "df = pd.read_csv('../data/data_covid.csv')"
   ]
  },
  {
   "cell_type": "code",
   "execution_count": 359,
   "id": "edc2b7b5",
   "metadata": {},
   "outputs": [],
   "source": [
    "df.replace({97: pd.NA, 99: pd.NA}, inplace=True)"
   ]
  },
  {
   "cell_type": "code",
   "execution_count": 360,
   "id": "c42f040a",
   "metadata": {},
   "outputs": [
    {
     "name": "stderr",
     "output_type": "stream",
     "text": [
      "/var/folders/tg/nw46x5hx3x3_5gqfd9j7zhcc0000gn/T/ipykernel_2790/3004967662.py:8: FutureWarning: Downcasting object dtype arrays on .fillna, .ffill, .bfill is deprecated and will change in a future version. Call result.infer_objects(copy=False) instead. To opt-in to the future behavior, set `pd.set_option('future.no_silent_downcasting', True)`\n",
      "  df[col] = df[col].fillna(mode_value)  # Reassigning directly to avoid chained assignment warning\n"
     ]
    },
    {
     "name": "stdout",
     "output_type": "stream",
     "text": [
      "    DATE_DIED  INTUBED  PNEUMONIA  AGE  PREGNANT  ICU\n",
      "0  03/05/2020        2          1   65         2    2\n",
      "1  03/06/2020        2          1   72         2    2\n",
      "2  09/06/2020        1          2   55         2    2\n",
      "3  12/06/2020        2          2   53         2    2\n",
      "4  21/06/2020        2          2   68         2    2\n"
     ]
    }
   ],
   "source": [
    "categorical_columns = df.select_dtypes(include=['object', 'category']).columns\n",
    "\n",
    "for col in categorical_columns:\n",
    "    # Check if the column contains missing values\n",
    "    if df[col].isna().any():\n",
    "        # Replace missing values with the mode (most frequent value)\n",
    "        mode_value = df[col].mode()[0]\n",
    "        df[col] = df[col].fillna(mode_value)  # Reassigning directly to avoid chained assignment warning\n",
    "\n",
    "# Confirm the changes\n",
    "print(df[categorical_columns].head())"
   ]
  },
  {
   "cell_type": "code",
   "execution_count": 361,
   "id": "44e8dd81",
   "metadata": {
    "scrolled": true
   },
   "outputs": [
    {
     "name": "stdout",
     "output_type": "stream",
     "text": [
      "<class 'pandas.core.frame.DataFrame'>\n",
      "RangeIndex: 1048575 entries, 0 to 1048574\n",
      "Data columns (total 21 columns):\n",
      " #   Column                Non-Null Count    Dtype \n",
      "---  ------                --------------    ----- \n",
      " 0   USMER                 1048575 non-null  int64 \n",
      " 1   MEDICAL_UNIT          1048575 non-null  int64 \n",
      " 2   SEX                   1048575 non-null  int64 \n",
      " 3   PATIENT_TYPE          1048575 non-null  int64 \n",
      " 4   DATE_DIED             1048575 non-null  object\n",
      " 5   INTUBED               1048575 non-null  int64 \n",
      " 6   PNEUMONIA             1048575 non-null  int64 \n",
      " 7   AGE                   1048575 non-null  int64 \n",
      " 8   PREGNANT              1048575 non-null  int64 \n",
      " 9   DIABETES              1048575 non-null  int64 \n",
      " 10  COPD                  1048575 non-null  int64 \n",
      " 11  ASTHMA                1048575 non-null  int64 \n",
      " 12  INMSUPR               1048575 non-null  int64 \n",
      " 13  HIPERTENSION          1048575 non-null  int64 \n",
      " 14  OTHER_DISEASE         1048575 non-null  int64 \n",
      " 15  CARDIOVASCULAR        1048575 non-null  int64 \n",
      " 16  OBESITY               1048575 non-null  int64 \n",
      " 17  RENAL_CHRONIC         1048575 non-null  int64 \n",
      " 18  TOBACCO               1048575 non-null  int64 \n",
      " 19  CLASIFFICATION_FINAL  1048575 non-null  int64 \n",
      " 20  ICU                   1048575 non-null  int64 \n",
      "dtypes: int64(20), object(1)\n",
      "memory usage: 168.0+ MB\n"
     ]
    }
   ],
   "source": [
    "df.info()"
   ]
  },
  {
   "cell_type": "code",
   "execution_count": 362,
   "id": "b461606f",
   "metadata": {},
   "outputs": [
    {
     "name": "stdout",
     "output_type": "stream",
     "text": [
      "   AGE AGE_GROUP\n",
      "0   65     60-80\n",
      "1   72     60-80\n",
      "2   55     40-60\n",
      "3   53     40-60\n",
      "4   68     60-80\n"
     ]
    }
   ],
   "source": [
    "age_bins = [0, 20, 40, 60, 80, 120] \n",
    "age_labels = ['<20', '20-40', '40-60', '60-80', '80+'] \n",
    "\n",
    "df['AGE_GROUP'] = pd.cut(df['AGE'], bins=age_bins, labels=age_labels, right=False)\n",
    "\n",
    "print(df[['AGE', 'AGE_GROUP']].head())"
   ]
  },
  {
   "cell_type": "code",
   "execution_count": 363,
   "id": "7f976393",
   "metadata": {},
   "outputs": [
    {
     "name": "stdout",
     "output_type": "stream",
     "text": [
      "CLASIFFICATION_FINAL\n",
      "0    656596\n",
      "1    391979\n",
      "Name: count, dtype: int64\n"
     ]
    }
   ],
   "source": [
    "df['CLASIFFICATION_FINAL'] = df['CLASIFFICATION_FINAL'].apply(lambda x: 1 if x in [1, 2, 3] else 0)\n",
    "\n",
    "print(df['CLASIFFICATION_FINAL'].value_counts())"
   ]
  },
  {
   "cell_type": "code",
   "execution_count": 364,
   "id": "dfd40500",
   "metadata": {},
   "outputs": [
    {
     "name": "stdout",
     "output_type": "stream",
     "text": [
      "6\n"
     ]
    },
    {
     "name": "stderr",
     "output_type": "stream",
     "text": [
      "/var/folders/tg/nw46x5hx3x3_5gqfd9j7zhcc0000gn/T/ipykernel_2790/1712841479.py:3: FutureWarning: A value is trying to be set on a copy of a DataFrame or Series through chained assignment using an inplace method.\n",
      "The behavior will change in pandas 3.0. This inplace method will never work because the intermediate object on which we are setting values always behaves as a copy.\n",
      "\n",
      "For example, when doing 'df[col].method(value, inplace=True)', try using 'df.method({col: value}, inplace=True)' or df[col] = df[col].method(value) instead, to perform the operation inplace on the original object.\n",
      "\n",
      "\n",
      "  df['AGE_GROUP'].fillna(df['AGE_GROUP'].mode()[0], inplace=True)\n"
     ]
    }
   ],
   "source": [
    "# check if there is nan values in the AGE_GROUP column\n",
    "print(df['AGE_GROUP'].isnull().sum())\n",
    "df['AGE_GROUP'].fillna(df['AGE_GROUP'].mode()[0], inplace=True)"
   ]
  },
  {
   "cell_type": "code",
   "execution_count": 365,
   "id": "84574990",
   "metadata": {},
   "outputs": [],
   "source": [
    "train_data, test_data = train_test_split(\n",
    "    df,\n",
    "    test_size=0.2,\n",
    "    random_state=42,\n",
    "    stratify=df[\"CLASIFFICATION_FINAL\"]\n",
    ")"
   ]
  },
  {
   "cell_type": "code",
   "execution_count": 366,
   "id": "dc8e4975",
   "metadata": {},
   "outputs": [],
   "source": [
    "categorical_columns = ['AGE_GROUP', 'PNEUMONIA', 'ICU', 'CLASIFFICATION_FINAL', 'SEX', 'OBESITY', 'DIABETES']\n",
    "for col in categorical_columns:\n",
    "    train_data[col] = train_data[col].astype(\"category\")\n",
    "    test_data[col] = test_data[col].astype(\"category\")"
   ]
  },
  {
   "cell_type": "markdown",
   "id": "c55bed83",
   "metadata": {},
   "source": [
    "# Helper Code"
   ]
  },
  {
   "cell_type": "code",
   "execution_count": 367,
   "id": "a05e60c7",
   "metadata": {},
   "outputs": [],
   "source": [
    "def extend(s, var, val):\n",
    "    \"\"\"Copy dict s and extend it by setting var to val; return copy.\"\"\"\n",
    "    return {**s, var: val}"
   ]
  },
  {
   "cell_type": "code",
   "execution_count": 368,
   "id": "e0462f4f",
   "metadata": {},
   "outputs": [],
   "source": [
    "def consistent_with(event, evidence):\n",
    "    \"\"\"Is event consistent with the given evidence?\"\"\"\n",
    "    return all(evidence.get(k, v) == v\n",
    "               for k, v in event.items())"
   ]
  },
  {
   "cell_type": "code",
   "execution_count": 369,
   "id": "2fc77e7f",
   "metadata": {},
   "outputs": [],
   "source": [
    "def probability(p):\n",
    "    \"\"\"Return true with probability p.\"\"\"\n",
    "    return p > random.uniform(0.0, 1.0)"
   ]
  },
  {
   "cell_type": "code",
   "execution_count": 370,
   "id": "1a3fc591",
   "metadata": {},
   "outputs": [],
   "source": [
    "class ProbDist:\n",
    "    \"\"\"A discrete probability distribution. You name the random variable\n",
    "    in the constructor, then assign and query probability of values.\n",
    "    >>> P = ProbDist('Flip'); P['H'], P['T'] = 0.25, 0.75; P['H']\n",
    "    0.25\n",
    "    >>> P = ProbDist('X', {'lo': 125, 'med': 375, 'hi': 500})\n",
    "    >>> P['lo'], P['med'], P['hi']\n",
    "    (0.125, 0.375, 0.5)\n",
    "    \"\"\"\n",
    "\n",
    "    def __init__(self, varname='?', freqs=None):\n",
    "        \"\"\"If freqs is given, it is a dictionary of values - frequency pairs,\n",
    "        then ProbDist is normalized.\"\"\"\n",
    "        self.prob = {}\n",
    "        self.varname = varname\n",
    "        self.values = []\n",
    "        if freqs:\n",
    "            for (v, p) in freqs.items():\n",
    "                self[v] = p\n",
    "            self.normalize()\n",
    "\n",
    "    def __getitem__(self, val):\n",
    "        \"\"\"Given a value, return P(value).\"\"\"\n",
    "        try:\n",
    "            return self.prob[val]\n",
    "        except KeyError:\n",
    "            return 0\n",
    "\n",
    "    def __setitem__(self, val, p):\n",
    "        \"\"\"Set P(val) = p.\"\"\"\n",
    "        if val not in self.values:\n",
    "            self.values.append(val)\n",
    "        self.prob[val] = p\n",
    "\n",
    "    def normalize(self):\n",
    "        \"\"\"Make sure the probabilities of all values sum to 1.\n",
    "        Returns the normalized distribution.\n",
    "        Raises a ZeroDivisionError if the sum of the values is 0.\"\"\" \n",
    "        total = sum(self.prob.values())\n",
    "        if not np.isclose(total, 1.0):\n",
    "            for val in self.prob:\n",
    "                self.prob[val] /= total\n",
    "        return self\n",
    "\n",
    "    def show_approx(self, numfmt='{:.3g}'):\n",
    "        \"\"\"Show the probabilities rounded and sorted by key, for the\n",
    "        sake of portable doctests.\"\"\"\n",
    "        return ', '.join([('{}: ' + numfmt).format(v, p)\n",
    "                          for (v, p) in sorted(self.prob.items())])\n",
    "\n",
    "    def __repr__(self):\n",
    "        return \"P({})\".format(self.varname)"
   ]
  },
  {
   "cell_type": "code",
   "execution_count": 371,
   "id": "37f7de6b",
   "metadata": {},
   "outputs": [],
   "source": [
    "class JointProbDist(ProbDist):\n",
    "    \"\"\"A discrete probability distribute over a set of variables.\n",
    "    >>> P = JointProbDist(['X', 'Y']); P[1, 1] = 0.25\n",
    "    >>> P[1, 1]\n",
    "    0.25\n",
    "    >>> P[dict(X=0, Y=1)] = 0.5\n",
    "    >>> P[dict(X=0, Y=1)]\n",
    "    0.5\"\"\"\n",
    "\n",
    "    def __init__(self, variables):\n",
    "        self.prob = {}\n",
    "        self.variables = variables\n",
    "        self.vals = defaultdict(list)\n",
    "\n",
    "    def __getitem__(self, values):\n",
    "        \"\"\"Given a tuple or dict of values, return P(values).\"\"\"\n",
    "        values = event_values(values, self.variables)\n",
    "        return ProbDist.__getitem__(self, values)\n",
    "\n",
    "    def __setitem__(self, values, p):\n",
    "        \"\"\"Set P(values) = p.  Values can be a tuple or a dict; it must\n",
    "        have a value for each of the variables in the joint. Also keep track\n",
    "        of the values we have seen so far for each variable.\"\"\"\n",
    "        values = event_values(values, self.variables)\n",
    "        self.prob[values] = p\n",
    "        for var, val in zip(self.variables, values):\n",
    "            if val not in self.vals[var]:\n",
    "                self.vals[var].append(val)\n",
    "\n",
    "    def values(self, var):\n",
    "        \"\"\"Return the set of possible values for a variable.\"\"\"\n",
    "        return self.vals[var]\n",
    "\n",
    "    def __repr__(self):\n",
    "        return \"P({})\".format(self.variables)"
   ]
  },
  {
   "cell_type": "code",
   "execution_count": 372,
   "id": "e82e018d",
   "metadata": {},
   "outputs": [],
   "source": [
    "class BayesNode:\n",
    "    \"\"\"A conditional probability distribution for a boolean variable,\n",
    "    P(X | parents). Part of a BayesNet.\"\"\"\n",
    "\n",
    "    def __init__(self, X, parents, cpt):\n",
    "        \"\"\"X is a variable name, and parents a sequence of variable\n",
    "        names or a space-separated string.  cpt, the conditional\n",
    "        probability table, takes one of these forms:\n",
    "\n",
    "        * A number, the unconditional probability P(X=true). You can\n",
    "          use this form when there are no parents.\n",
    "\n",
    "        * A dict {v: p, ...}, the conditional probability distribution\n",
    "          P(X=true | parent=v) = p. When there's just one parent.\n",
    "\n",
    "        * A dict {(v1, v2, ...): p, ...}, the distribution P(X=true |\n",
    "          parent1=v1, parent2=v2, ...) = p. Each key must have as many\n",
    "          values as there are parents. You can use this form always;\n",
    "          the first two are just conveniences.\n",
    "\n",
    "        In all cases the probability of X being false is left implicit,\n",
    "        since it follows from P(X=true).\n",
    "\n",
    "        >>> X = BayesNode('X', '', 0.2)\n",
    "        >>> Y = BayesNode('Y', 'P', {T: 0.2, F: 0.7})\n",
    "        >>> Z = BayesNode('Z', 'P Q',\n",
    "        ...    {(T, T): 0.2, (T, F): 0.3, (F, T): 0.5, (F, F): 0.7})\n",
    "        \"\"\"\n",
    "        if isinstance(parents, str):\n",
    "            parents = parents.split()\n",
    "\n",
    "        # We store the table always in the third form above.\n",
    "        if isinstance(cpt, (float, int)):  # no parents, 0-tuple\n",
    "            cpt = {(): cpt}\n",
    "        elif isinstance(cpt, dict):\n",
    "            # one parent, 1-tuple\n",
    "            if cpt and isinstance(list(cpt.keys())[0], bool):\n",
    "                cpt = {(v,): p for v, p in cpt.items()}\n",
    "\n",
    "        assert isinstance(cpt, dict)\n",
    "        for vs, p in cpt.items():\n",
    "            assert isinstance(vs, tuple) and len(vs) == len(parents)\n",
    "            assert all(isinstance(v, bool) for v in vs)\n",
    "            assert 0 <= p <= 1\n",
    "\n",
    "        self.variable = X\n",
    "        self.parents = parents\n",
    "        self.cpt = cpt\n",
    "        self.children = []\n",
    "\n",
    "    def p(self, value, event):\n",
    "        \"\"\"Return the conditional probability\n",
    "        P(X=value | parents=parent_values), where parent_values\n",
    "        are the values of parents in event. (event must assign each\n",
    "        parent a value.)\n",
    "        >>> bn = BayesNode('X', 'Burglary', {T: 0.2, F: 0.625})\n",
    "        >>> bn.p(False, {'Burglary': False, 'Earthquake': True})\n",
    "        0.375\"\"\"\n",
    "        assert isinstance(value, bool)\n",
    "        ptrue = self.cpt[event_values(event, self.parents)]\n",
    "        return ptrue if value else 1 - ptrue\n",
    "\n",
    "    def sample(self, event):\n",
    "        \"\"\"Sample from the distribution for this variable conditioned\n",
    "        on event's values for parent_variables. That is, return True/False\n",
    "        at random according with the conditional probability given the\n",
    "        parents.\"\"\"\n",
    "        return probability(self.p(True, event))\n",
    "\n",
    "    def __repr__(self):\n",
    "        return repr((self.variable, ' '.join(self.parents)))"
   ]
  },
  {
   "cell_type": "code",
   "execution_count": 373,
   "id": "93d67948",
   "metadata": {},
   "outputs": [],
   "source": [
    "def probability_sampling(probabilities):\n",
    "    \"\"\"Randomly sample an outcome from a probability distribution.\"\"\"\n",
    "    total = sum(probabilities.values())\n",
    "    r = random.uniform(0, total)\n",
    "    cumulative = 0\n",
    "    for outcome, prob in probabilities.items():\n",
    "        cumulative += prob\n",
    "        if r <= cumulative:\n",
    "            return outcome\n",
    "    return None  # Should not reach here if probabilities are normalize"
   ]
  },
  {
   "cell_type": "code",
   "execution_count": 374,
   "id": "7159ca6d",
   "metadata": {},
   "outputs": [],
   "source": [
    "class MultiClassBayesNode:\n",
    "    \"\"\"A Bayesian node for multi-class variables.\"\"\"\n",
    "    def __init__(self, X, parents, cpt):\n",
    "        \"\"\"\n",
    "        X: Name of the variable.\n",
    "        parents: List of parent variable names.\n",
    "        cpt: Conditional probability table, mapping tuples of parent values to\n",
    "             dictionaries of target probabilities.\n",
    "        \"\"\"\n",
    "        if isinstance(parents, str):\n",
    "            parents = parents.split()\n",
    "        self.variable = X\n",
    "        self.parents = parents\n",
    "        self.cpt = cpt\n",
    "        self.children = []\n",
    "\n",
    "    def p(self, value, event):\n",
    "        \"\"\"Return the conditional probability P(X=value | parents=parent_values).\"\"\"\n",
    "        parent_values = tuple(event.get(p, None) for p in self.parents)\n",
    "        probabilities = self.cpt.get(parent_values, {})\n",
    "        return probabilities.get(value, 0)  # Default to 0 if value not found\n",
    "\n",
    "    def sample(self, event):\n",
    "        \"\"\"Sample from the distribution for this variable given parent values.\"\"\"\n",
    "        parent_values = tuple(event.get(p, None) for p in self.parents)\n",
    "        probabilities = self.cpt.get(parent_values, {})\n",
    "        return probability_sampling(probabilities)\n",
    "\n",
    "    def __repr__(self):\n",
    "        return repr((self.variable, ' '.join(self.parents)))"
   ]
  },
  {
   "cell_type": "code",
   "execution_count": 375,
   "id": "a1b41a9a",
   "metadata": {},
   "outputs": [],
   "source": [
    "class BayesNet:\n",
    "    \"\"\"Bayesian network containing only boolean-variable or multi-class nodes.\"\"\"\n",
    "    \n",
    "    def __init__(self, node_specs=None):\n",
    "        \"\"\"Nodes must be ordered with parents before children.\"\"\"\n",
    "        self.nodes = []\n",
    "        self.variables = []\n",
    "        node_specs = node_specs or []\n",
    "        for node_spec in node_specs:\n",
    "            self.add(node_spec)\n",
    "\n",
    "    def add(self, node_spec):\n",
    "        \"\"\"Add a node to the net. Supports both pre-constructed nodes and node specs.\"\"\"\n",
    "        if isinstance(node_spec, (BayesNode, MultiClassBayesNode)):\n",
    "            # If already a node, add it directly\n",
    "            node = node_spec\n",
    "        else:\n",
    "            # Otherwise, initialize a new node\n",
    "            node = BayesNode(*node_spec)\n",
    "\n",
    "        assert node.variable not in self.variables\n",
    "        assert all((parent in self.variables) for parent in node.parents)\n",
    "\n",
    "        self.nodes.append(node)\n",
    "        self.variables.append(node.variable)\n",
    "\n",
    "        # Register children for the parent nodes\n",
    "        for parent in node.parents:\n",
    "            self.variable_node(parent).children.append(node)\n",
    "\n",
    "    def variable_node(self, var):\n",
    "        \"\"\"Return the node for the variable named var.\"\"\"\n",
    "        for n in self.nodes:\n",
    "            if n.variable == var:\n",
    "                return n\n",
    "        raise Exception(f\"No such variable: {var}\")\n",
    "\n",
    "    def variable_values(self, var):\n",
    "        \"\"\"Return the domain of var.\"\"\"\n",
    "        return [True, False]\n",
    "\n",
    "    def __repr__(self):\n",
    "        return f\"BayesNet({self.nodes!r})\""
   ]
  },
  {
   "cell_type": "code",
   "execution_count": 376,
   "id": "cacc07d9",
   "metadata": {},
   "outputs": [],
   "source": [
    "def make_factor(var, e, bn):\n",
    "    \"\"\"Return the factor for var in bn's joint distribution given e.\n",
    "    That is, bn's full joint distribution, projected to accord with e,\n",
    "    is the pointwise product of these factors for bn's variables.\"\"\"\n",
    "    node = bn.variable_node(var)\n",
    "    variables = [X for X in [var] + node.parents if X not in e]\n",
    "    cpt = {event_values(e1, variables): node.p(e1[var], e1)\n",
    "           for e1 in all_events(variables, bn, e)}\n",
    "    return Factor(variables, cpt)"
   ]
  },
  {
   "cell_type": "code",
   "execution_count": 377,
   "id": "c01ebbe8",
   "metadata": {},
   "outputs": [],
   "source": [
    "class Factor:\n",
    "    \"\"\"A factor in a joint distribution.\"\"\"\n",
    "\n",
    "    def __init__(self, variables, cpt):\n",
    "        self.variables = variables\n",
    "        self.cpt = cpt\n",
    "\n",
    "    def pointwise_product(self, other, bn):\n",
    "        \"\"\"Multiply two factors, combining their variables.\"\"\"\n",
    "        variables = list(set(self.variables) | set(other.variables))\n",
    "        cpt = {event_values(e, variables): self.p(e) * other.p(e) for e in all_events(variables, bn, {})}\n",
    "        return Factor(variables, cpt)\n",
    "\n",
    "    def sum_out(self, var, bn):\n",
    "        \"\"\"Make a factor eliminating var by summing over its values.\"\"\"\n",
    "        variables = [X for X in self.variables if X != var]\n",
    "        cpt = {event_values(e, variables): sum(self.p(extend(e, var, val)) for val in bn.variable_values(var))\n",
    "               for e in all_events(variables, bn, {})}\n",
    "        return Factor(variables, cpt)\n",
    "\n",
    "    def normalize(self):\n",
    "        \"\"\"Return my probabilities; must be down to one variable.\"\"\"\n",
    "        assert len(self.variables) == 1\n",
    "        return ProbDist(self.variables[0], {k: v for ((k,), v) in self.cpt.items()})\n",
    "\n",
    "    def p(self, e):\n",
    "        \"\"\"Look up my value tabulated for e.\"\"\"\n",
    "        return self.cpt[event_values(e, self.variables)]"
   ]
  },
  {
   "cell_type": "code",
   "execution_count": 378,
   "id": "3d56a77b",
   "metadata": {},
   "outputs": [],
   "source": [
    "def enumerate_all(variables, e, bn):\n",
    "    \"\"\"Return the sum of those entries in P(variables | e{others})\n",
    "    consistent with e, where P is the joint distribution represented\n",
    "    by bn, and e{others} means e restricted to bn's other variables\n",
    "    (the ones other than variables). Parents must precede children in variables.\"\"\"\n",
    "    if not variables:\n",
    "        return 1.0\n",
    "    Y, rest = variables[0], variables[1:]\n",
    "    Ynode = bn.variable_node(Y)\n",
    "    if Y in e:\n",
    "        return Ynode.p(e[Y], e) * enumerate_all(rest, e, bn)\n",
    "    else:\n",
    "        return sum(Ynode.p(y, e) * enumerate_all(rest, extend(e, Y, y), bn)\n",
    "                   for y in bn.variable_values(Y))"
   ]
  },
  {
   "cell_type": "code",
   "execution_count": 379,
   "id": "29b1ac6f",
   "metadata": {},
   "outputs": [],
   "source": [
    "def enumeration_ask(X, e, bn):\n",
    "    \"\"\"Return the conditional probability distribution of variable X\n",
    "    given evidence e, from BayesNet bn. [Figure 14.9]\n",
    "    >>> enumeration_ask('Burglary', dict(JohnCalls=T, MaryCalls=T), burglary\n",
    "    ...  ).show_approx()\n",
    "    'False: 0.716, True: 0.284'\"\"\"\n",
    "    assert X not in e, \"Query variable must be distinct from evidence\"\n",
    "    Q = ProbDist(X)\n",
    "    for xi in bn.variable_values(X):\n",
    "        Q[xi] = enumerate_all(bn.variables, extend(e, X, xi), bn)\n",
    "    return Q.normalize()"
   ]
  },
  {
   "cell_type": "code",
   "execution_count": 380,
   "id": "e2a85ee2",
   "metadata": {},
   "outputs": [],
   "source": [
    "def elimination_ask(X, e, bn):\n",
    "    \"\"\"Compute bn's P(X|e) by variable elimination. [Figure 14.11]\n",
    "    >>> elimination_ask('Burglary', dict(JohnCalls=T, MaryCalls=T), burglary\n",
    "    ...  ).show_approx()\n",
    "    'False: 0.716, True: 0.284'\"\"\"\n",
    "    assert X not in e, \"Query variable must be distinct from evidence\"\n",
    "    factors = []\n",
    "    for var in reversed(bn.variables):\n",
    "        factors.append(make_factor(var, e, bn))\n",
    "        if is_hidden(var, X, e):\n",
    "            factors = sum_out(var, factors, bn)\n",
    "    return pointwise_product(factors, bn).normalize()"
   ]
  },
  {
   "cell_type": "code",
   "execution_count": 381,
   "id": "7df22d9d",
   "metadata": {},
   "outputs": [],
   "source": [
    "def prior_sample(bn):\n",
    "    \"\"\"Randomly sample from bn's full joint distribution. The result\n",
    "    is a {variable: value} dict. [Figure 14.13]\"\"\"\n",
    "    event = {}\n",
    "    for node in bn.nodes:\n",
    "        event[node.variable] = node.sample(event)\n",
    "    return event"
   ]
  },
  {
   "cell_type": "code",
   "execution_count": 382,
   "id": "0b4189e2",
   "metadata": {},
   "outputs": [],
   "source": [
    "def rejection_sampling(X, e, bn, N=10000):\n",
    "    \"\"\"Estimate the probability distribution of variable X given\n",
    "    evidence e in BayesNet bn, using N samples.  [Figure 14.14]\n",
    "    Raises a ZeroDivisionError if all the N samples are rejected,\n",
    "    i.e., inconsistent with e.\n",
    "    >>> random.seed(47)\n",
    "    >>> rejection_sampling('Burglary', dict(JohnCalls=T, MaryCalls=T),\n",
    "    ...   burglary, 10000).show_approx()\n",
    "    'False: 0.7, True: 0.3'\n",
    "    \"\"\"\n",
    "    counts = {x: 0 for x in bn.variable_values(X)}  # bold N in [Figure 14.14]\n",
    "    for j in range(N):\n",
    "        sample = prior_sample(bn)  # boldface x in [Figure 14.14]\n",
    "        if consistent_with(sample, e):\n",
    "            counts[sample[X]] += 1\n",
    "    return ProbDist(X, counts)"
   ]
  },
  {
   "cell_type": "code",
   "execution_count": 383,
   "id": "60855c80",
   "metadata": {},
   "outputs": [],
   "source": [
    "def likelihood_weighting(X, e, bn, N=10000):\n",
    "    \"\"\"Estimate the probability distribution of variable X given\n",
    "    evidence e in BayesNet bn.  [Figure 14.15]\n",
    "    >>> random.seed(1017)\n",
    "    >>> likelihood_weighting('Burglary', dict(JohnCalls=T, MaryCalls=T),\n",
    "    ...   burglary, 10000).show_approx()\n",
    "    'False: 0.702, True: 0.298'\n",
    "    \"\"\"\n",
    "    W = {x: 0 for x in bn.variable_values(X)}\n",
    "    for j in range(N):\n",
    "        sample, weight = weighted_sample(bn, e)  # boldface x, w in [Figure 14.15]\n",
    "        W[sample[X]] += weight\n",
    "    return ProbDist(X, W)"
   ]
  },
  {
   "cell_type": "code",
   "execution_count": 384,
   "id": "c441e0b2",
   "metadata": {},
   "outputs": [],
   "source": [
    "def gibbs_ask(X, e, bn, N=1000):\n",
    "    \"\"\"[Figure 14.16]\"\"\"\n",
    "    assert X not in e, \"Query variable must be distinct from evidence\"\n",
    "    counts = {x: 0 for x in bn.variable_values(X)}  # bold N in [Figure 14.16]\n",
    "    Z = [var for var in bn.variables if var not in e]\n",
    "    state = dict(e)  # boldface x in [Figure 14.16]\n",
    "    for Zi in Z:\n",
    "        state[Zi] = random.choice(bn.variable_values(Zi))\n",
    "    for j in range(N):\n",
    "        for Zi in Z:\n",
    "            state[Zi] = markov_blanket_sample(Zi, state, bn)\n",
    "            counts[state[X]] += 1\n",
    "    return ProbDist(X, counts)"
   ]
  },
  {
   "cell_type": "code",
   "execution_count": 385,
   "id": "4759d50c",
   "metadata": {},
   "outputs": [],
   "source": [
    "def pointwise_product(self, other, bn):\n",
    "        \"\"\"Multiply two factors, combining their variables.\"\"\"\n",
    "        variables = list(set(self.variables) | set(other.variables))\n",
    "        cpt = {event_values(e, variables): self.p(e) * other.p(e)\n",
    "               for e in all_events(variables, bn, {})}\n",
    "        return Factor(variables, cpt)"
   ]
  },
  {
   "cell_type": "code",
   "execution_count": 386,
   "id": "b6c8285c",
   "metadata": {},
   "outputs": [],
   "source": [
    "def sum_out(self, var, bn):\n",
    "        \"\"\"Make a factor eliminating var by summing over its values.\"\"\"\n",
    "        variables = [X for X in self.variables if X != var]\n",
    "        cpt = {event_values(e, variables): sum(self.p(extend(e, var, val))\n",
    "                                               for val in bn.variable_values(var))\n",
    "               for e in all_events(variables, bn, {})}\n",
    "        return Factor(variables, cpt)"
   ]
  },
  {
   "cell_type": "code",
   "execution_count": 387,
   "id": "9bc0e2e7",
   "metadata": {},
   "outputs": [],
   "source": [
    "def event_values(event, variables):\n",
    "    \"\"\"Return a tuple of the values of variables in event.\n",
    "    >>> event_values ({'A': 10, 'B': 9, 'C': 8}, ['C', 'A'])\n",
    "    (8, 10)\n",
    "    >>> event_values ((1, 2), ['C', 'A'])\n",
    "    (1, 2)\n",
    "    \"\"\"\n",
    "    if isinstance(event, tuple) and len(event) == len(variables):\n",
    "        return event\n",
    "    else:\n",
    "        return tuple([event[var] for var in variables])"
   ]
  },
  {
   "cell_type": "markdown",
   "id": "d7389904",
   "metadata": {},
   "source": [
    "# Design the Network Structure"
   ]
  },
  {
   "cell_type": "markdown",
   "id": "fe65308c",
   "metadata": {},
   "source": [
    "Find dependencies."
   ]
  },
  {
   "cell_type": "markdown",
   "id": "e242e751",
   "metadata": {},
   "source": [
    "Mental_Health_Condition is the target variable.\n",
    "\n",
    "It depends on:\n",
    "- Gender, Physical Activity Hours.\n",
    "\n",
    "Other variables are conditionally dependent based on logical relationships:\n",
    "- Physical Activity Hours depend on:\n",
    "    - Country\n",
    "- Gender depends on:\n",
    "    - Occupation\n",
    "- Country depends on:\n",
    "    - Stress Level\n",
    "- Stress Level depends on:\n",
    "    - Age"
   ]
  },
  {
   "cell_type": "markdown",
   "id": "8b6c62c2",
   "metadata": {},
   "source": [
    "# Estimate Conditional Probabilities"
   ]
  },
  {
   "cell_type": "markdown",
   "id": "3483d1bf",
   "metadata": {},
   "source": [
    "If a node is a root node, then estimate probability directly from the data. Estimate conditional probabilities based on parent for non-root nodes."
   ]
  },
  {
   "cell_type": "code",
   "execution_count": 388,
   "id": "951ae0bb",
   "metadata": {},
   "outputs": [],
   "source": [
    "def compute_cpt(data, target, parents, alpha=1):\n",
    "    \"\"\"\n",
    "    Compute CPT with Laplace smoothing.\n",
    "    \n",
    "    Args:\n",
    "        data: pandas DataFrame (training data)\n",
    "        target: str, target variable\n",
    "        parents: list of parent variable names\n",
    "        alpha: smoothing parameter (default=1)\n",
    "    \n",
    "    Returns:\n",
    "        cpt: dict { parent_values_tuple: { target_value: probability } }\n",
    "    \"\"\"\n",
    "    target_values = data[target].cat.categories\n",
    "\n",
    "    if not parents:\n",
    "        # Marginal distribution of target\n",
    "        counts = defaultdict(lambda: alpha)\n",
    "        for val in data[target]:\n",
    "            counts[val] += 1\n",
    "        total = sum(counts.values())\n",
    "        cpt = {(): {tv: counts[tv]/total for tv in counts}}\n",
    "        return cpt\n",
    "\n",
    "    # Determine possible parent combinations\n",
    "    from itertools import product\n",
    "    parent_values_list = [data[p].cat.categories for p in parents]\n",
    "    parent_combinations = list(product(*parent_values_list)) if parents else [()]\n",
    "\n",
    "    # Initialize counts with alpha\n",
    "    counts = {pc: defaultdict(lambda: alpha) for pc in parent_combinations}\n",
    "\n",
    "    # Count occurrences\n",
    "    for _, row in data.iterrows():\n",
    "        pv = tuple(row[p] for p in parents) if parents else ()\n",
    "        tv = row[target]\n",
    "        counts[pv][tv] += 1\n",
    "\n",
    "    # Compute probabilities\n",
    "    cpt = {}\n",
    "    for pc in parent_combinations:\n",
    "        total = sum(counts[pc].values())\n",
    "        cpt[pc] = {tv: (counts[pc][tv] / total) for tv in counts[pc]}\n",
    "        \n",
    "    return cpt"
   ]
  },
  {
   "cell_type": "code",
   "execution_count": 389,
   "id": "864c81ab",
   "metadata": {},
   "outputs": [],
   "source": [
    "cpt_classification = compute_cpt(train_data, 'CLASIFFICATION_FINAL', ['SEX', 'OBESITY', 'DIABETES', 'ICU'])"
   ]
  },
  {
   "cell_type": "code",
   "execution_count": 390,
   "id": "d3411dcd",
   "metadata": {},
   "outputs": [],
   "source": [
    "cpt_icu = compute_cpt(train_data, 'ICU', ['PNEUMONIA'])"
   ]
  },
  {
   "cell_type": "code",
   "execution_count": 391,
   "id": "e0f41c85",
   "metadata": {},
   "outputs": [],
   "source": [
    "cpt_pneumonia = compute_cpt(train_data, 'PNEUMONIA', ['AGE_GROUP'])"
   ]
  },
  {
   "cell_type": "code",
   "execution_count": 392,
   "id": "f11fbadc",
   "metadata": {},
   "outputs": [],
   "source": [
    "# calculate cpt for the ones which have no parents (AGE_GROUP), (SEX), (OBESITY), (DIABETES)\n",
    "cpt_age_group = compute_cpt(train_data, 'AGE_GROUP', [])\n",
    "cpt_sex_group = compute_cpt(train_data, 'SEX', [])\n",
    "cpt_obesity_group = compute_cpt(train_data, 'OBESITY', [])\n",
    "cpt_diabetes_group = compute_cpt(train_data, 'DIABETES', [])"
   ]
  },
  {
   "cell_type": "markdown",
   "id": "39ea9488",
   "metadata": {},
   "source": [
    "# Implement Inference"
   ]
  },
  {
   "cell_type": "markdown",
   "id": "8ae3782a",
   "metadata": {},
   "source": [
    "Use the chain rule of probability to predict target given evidence."
   ]
  },
  {
   "cell_type": "code",
   "execution_count": 393,
   "id": "47de2a3c",
   "metadata": {},
   "outputs": [],
   "source": [
    "classification_node = MultiClassBayesNode(\n",
    "    \"CLASIFFICATION_FINAL\",\n",
    "    ['SEX', 'OBESITY', 'DIABETES', 'ICU'],\n",
    "    cpt_classification\n",
    ")"
   ]
  },
  {
   "cell_type": "code",
   "execution_count": 394,
   "id": "c0c480fc",
   "metadata": {},
   "outputs": [],
   "source": [
    "pneumonia_node = MultiClassBayesNode(\n",
    "    \"PNEUMONIA\", \n",
    "    [\"AGE_GROUP\"],\n",
    "    cpt_pneumonia\n",
    ")"
   ]
  },
  {
   "cell_type": "code",
   "execution_count": 395,
   "id": "bdc76441",
   "metadata": {},
   "outputs": [],
   "source": [
    "icu_node = MultiClassBayesNode(\n",
    "    \"ICU\", \n",
    "    [\"PNEUMONIA\"], \n",
    "    cpt_icu\n",
    ")"
   ]
  },
  {
   "cell_type": "code",
   "execution_count": 396,
   "id": "c5ff941e",
   "metadata": {},
   "outputs": [],
   "source": [
    "age_node = MultiClassBayesNode(\n",
    "    \"AGE_GROUP\",\n",
    "    [],\n",
    "    cpt_age_group\n",
    ")"
   ]
  },
  {
   "cell_type": "code",
   "execution_count": 397,
   "id": "aa1ac506",
   "metadata": {},
   "outputs": [],
   "source": [
    "# create nodes for the ones which have no parents\n",
    "obesity_node = MultiClassBayesNode(\n",
    "    \"OBESITY\",\n",
    "    [],\n",
    "    cpt_obesity_group\n",
    ")"
   ]
  },
  {
   "cell_type": "code",
   "execution_count": 398,
   "id": "65852a08",
   "metadata": {},
   "outputs": [],
   "source": [
    "sex_node = MultiClassBayesNode(\n",
    "    \"SEX\",\n",
    "    [],\n",
    "    cpt_sex_group\n",
    ")"
   ]
  },
  {
   "cell_type": "code",
   "execution_count": 399,
   "id": "89e2711b",
   "metadata": {},
   "outputs": [],
   "source": [
    "diabetes_node = MultiClassBayesNode(\n",
    "    \"DIABETES\",\n",
    "    [],\n",
    "    cpt_diabetes_group\n",
    ")"
   ]
  },
  {
   "cell_type": "code",
   "execution_count": 400,
   "id": "cd09a829",
   "metadata": {},
   "outputs": [],
   "source": [
    "# define the bayesian network\n",
    "classification_final = BayesNet([\n",
    "    age_node,\n",
    "    sex_node,\n",
    "    obesity_node,\n",
    "    diabetes_node,\n",
    "    pneumonia_node,\n",
    "    icu_node,\n",
    "    classification_node\n",
    "])"
   ]
  },
  {
   "cell_type": "code",
   "execution_count": 401,
   "id": "c1614601",
   "metadata": {},
   "outputs": [
    {
     "name": "stdout",
     "output_type": "stream",
     "text": [
      "BayesNet([('AGE_GROUP', ''), ('SEX', ''), ('OBESITY', ''), ('DIABETES', ''), ('PNEUMONIA', 'AGE_GROUP'), ('ICU', 'PNEUMONIA'), ('CLASIFFICATION_FINAL', 'SEX OBESITY DIABETES ICU')])\n"
     ]
    }
   ],
   "source": [
    "print(classification_final)"
   ]
  },
  {
   "cell_type": "code",
   "execution_count": 402,
   "id": "5120347e",
   "metadata": {},
   "outputs": [
    {
     "name": "stdout",
     "output_type": "stream",
     "text": [
      "CPT for CLASIFFICATION_FINAL: {(1, 1, 1, 1): {1: 0.6524822695035462, 0: 0.3475177304964539}, (1, 1, 1, 2): {0: 0.5135019593872462, 1: 0.4864980406127538}, (1, 1, 2, 1): {0: 0.328998699609883, 1: 0.6710013003901171}, (1, 1, 2, 2): {0: 0.5990560540729518, 1: 0.40094394592704813}, (1, 1, 98, 1): {0: 0.42857142857142855, 1: 0.5714285714285714}, (1, 1, 98, 2): {0: 0.475, 1: 0.525}, (1, 2, 1, 1): {1: 0.6375121477162293, 0: 0.3624878522837707}, (1, 2, 1, 2): {0: 0.5469492144683961, 1: 0.45305078553160394}, (1, 2, 2, 1): {1: 0.5160128102481986, 0: 0.48398718975180144}, (1, 2, 2, 2): {1: 0.31796763023376756, 0: 0.6820323697662325}, (1, 2, 98, 1): {1: 0.5, 0: 0.5}, (1, 2, 98, 2): {0: 0.6729857819905213, 1: 0.32701421800947866}, (1, 98, 1, 1): {1: 1.0}, (1, 98, 1, 2): {0: 0.49122807017543857, 1: 0.5087719298245614}, (1, 98, 2, 1): {1: 0.5, 0: 0.5}, (1, 98, 2, 2): {1: 0.3333333333333333, 0: 0.6666666666666666}, (1, 98, 98, 1): {0: 0.43333333333333335, 1: 0.5666666666666667}, (1, 98, 98, 2): {0: 0.6015523932729625, 1: 0.3984476067270375}, (2, 1, 1, 1): {0: 0.3108108108108108, 1: 0.6891891891891891}, (2, 1, 1, 2): {0: 0.45563591462339037, 1: 0.5443640853766096}, (2, 1, 2, 1): {1: 0.7397572078907435, 0: 0.26024279210925644}, (2, 1, 2, 2): {0: 0.5326029927175806, 1: 0.46739700728241934}, (2, 1, 98, 1): {1: 0.3684210526315789, 0: 0.631578947368421}, (2, 1, 98, 2): {0: 0.5980392156862745, 1: 0.4019607843137255}, (2, 2, 1, 1): {0: 0.32940516273849607, 1: 0.6705948372615039}, (2, 2, 1, 2): {0: 0.4922714874043964, 1: 0.5077285125956036}, (2, 2, 2, 1): {0: 0.4076625053809729, 1: 0.5923374946190271}, (2, 2, 2, 2): {0: 0.6351305494730641, 1: 0.3648694505269358}, (2, 2, 98, 1): {1: 0.34210526315789475, 0: 0.6578947368421053}, (2, 2, 98, 2): {0: 0.6033898305084746, 1: 0.39661016949152544}, (2, 98, 1, 1): {1: 0.7142857142857143, 0: 0.2857142857142857}, (2, 98, 1, 2): {0: 0.4805194805194805, 1: 0.5194805194805194}, (2, 98, 2, 1): {0: 0.5, 1: 0.5}, (2, 98, 2, 2): {0: 0.563953488372093, 1: 0.436046511627907}, (2, 98, 98, 1): {1: 0.53125, 0: 0.46875}, (2, 98, 98, 2): {1: 0.4751434034416826, 0: 0.5248565965583174}}\n",
      "CPT for ICU: {(1,): {2: 0.9006217829201495, 1: 0.09937821707985049}, (2,): {2: 0.9968022763829398, 1: 0.0031977236170602132}}\n",
      "CPT for PNEUMONIA: {('<20',): {2: 0.9231421722293933, 1: 0.07685782777060668}, ('20-40',): {2: 0.9461586955898788, 1: 0.053841304410121214}, ('40-60',): {2: 0.8563595749001557, 1: 0.14364042509984432}, ('60-80',): {2: 0.6569643868165322, 1: 0.34303561318346776}, ('80+',): {2: 0.5692811934900542, 1: 0.43071880650994576}}\n"
     ]
    }
   ],
   "source": [
    "print(\"CPT for CLASIFFICATION_FINAL:\", cpt_classification)\n",
    "print(\"CPT for ICU:\", cpt_icu)\n",
    "print(\"CPT for PNEUMONIA:\", cpt_pneumonia)"
   ]
  },
  {
   "cell_type": "markdown",
   "id": "3ce4477f",
   "metadata": {},
   "source": [
    "# Evaluate the Model"
   ]
  },
  {
   "cell_type": "code",
   "execution_count": 403,
   "id": "0ff130e8",
   "metadata": {},
   "outputs": [],
   "source": [
    "def predict_bayes_net(bn, evidence, query_var):\n",
    "    \"\"\"\n",
    "    Predict the most likely value of a query variable given evidence using the Bayesian Network.\n",
    "    \n",
    "    Args:\n",
    "        bn: Bayesian network.\n",
    "        evidence: Dictionary of evidence variables and their values.\n",
    "        query_var: Variable to predict.\n",
    "    \n",
    "    Returns:\n",
    "        The most likely value of the query variable.\n",
    "    \"\"\"\n",
    "    result = enumeration_ask(query_var, evidence, bn)\n",
    "    return max(result.prob, key=lambda k: result.prob[k])"
   ]
  },
  {
   "cell_type": "code",
   "execution_count": 404,
   "id": "3100abac",
   "metadata": {},
   "outputs": [],
   "source": [
    "def evaluate_bayes_net(bn, test_data, query_var):\n",
    "    \"\"\"\n",
    "    Evaluate the Bayesian Network on a test dataset.\n",
    "    \n",
    "    Args:\n",
    "        bn: Bayesian Network (BayesNet instance).\n",
    "        test_data: Test dataset (pandas DataFrame).\n",
    "        query_var: The target variable to predict.\n",
    "    \n",
    "    Returns:\n",
    "        Accuracy of the predictions as a float.\n",
    "    \"\"\"\n",
    "    correct = 0  # Count of correct predictions\n",
    "\n",
    "    for _, row in test_data.iterrows():\n",
    "        # Build evidence dictionary from test row\n",
    "        evidence = {\n",
    "            \"AGE_GROUP\": row[\"AGE_GROUP\"],\n",
    "            \"SEX\": row[\"SEX\"],\n",
    "            \"OBESITY\": row[\"OBESITY\"],\n",
    "            \"DIABETES\": row[\"DIABETES\"],\n",
    "            \"PNEUMONIA\": row[\"PNEUMONIA\"],\n",
    "            \"ICU\": row[\"ICU\"]\n",
    "        }\n",
    "\n",
    "        # Predict the target variable\n",
    "        prediction = predict_bayes_net(bn, evidence, query_var)\n",
    "        \n",
    "        \n",
    "        # Check if the prediction matches the actual value\n",
    "        if prediction == row[query_var]:\n",
    "            correct += 1\n",
    "\n",
    "    # Calculate accuracy\n",
    "    accuracy = correct / len(test_data)\n",
    "    return accuracy"
   ]
  },
  {
   "cell_type": "code",
   "execution_count": 405,
   "id": "65fe8843",
   "metadata": {},
   "outputs": [
    {
     "name": "stdout",
     "output_type": "stream",
     "text": [
      "Accuracy of Bayesian Network: 63.22%\n"
     ]
    }
   ],
   "source": [
    "# Evaluate the Bayesian Network on the test dataset\n",
    "query_var = \"CLASIFFICATION_FINAL\"\n",
    "accuracy = evaluate_bayes_net(classification_final, test_data, query_var)\n",
    "\n",
    "print(f\"Accuracy of Bayesian Network: {accuracy:.2%}\")"
   ]
  },
  {
   "cell_type": "code",
   "execution_count": 406,
   "id": "4de23a21",
   "metadata": {},
   "outputs": [],
   "source": [
    "from sklearn.metrics import accuracy_score, confusion_matrix, classification_report\n",
    "\n",
    "def evaluate_bayes_net(bn, test_data, query_var):\n",
    "    \"\"\"\n",
    "    Evaluate the Bayesian Network on a test dataset and compute various metrics.\n",
    "\n",
    "    Args:\n",
    "        bn: Bayesian Network (BayesNet instance).\n",
    "        test_data: Test dataset (pandas DataFrame).\n",
    "        query_var: The target variable to predict.\n",
    "\n",
    "    Returns:\n",
    "        metrics: A dictionary containing accuracy, and prints out confusion matrix\n",
    "                 and classification report (precision, recall, f1).\n",
    "    \"\"\"\n",
    "    y_true = []\n",
    "    y_pred = []\n",
    "\n",
    "    for _, row in test_data.iterrows():\n",
    "        # Build evidence dictionary from test row\n",
    "        # Note: Adjust the evidence set according to what you want to condition on.\n",
    "        evidence = {\n",
    "            \"AGE_GROUP\": row[\"AGE_GROUP\"],\n",
    "            \"SEX\": row[\"SEX\"],\n",
    "            \"OBESITY\": row[\"OBESITY\"],\n",
    "            \"DIABETES\": row[\"DIABETES\"],\n",
    "            \"PNEUMONIA\": row[\"PNEUMONIA\"],\n",
    "            \"ICU\": row[\"ICU\"]\n",
    "        }\n",
    "\n",
    "        # Predict the target variable\n",
    "        prediction = predict_bayes_net(bn, evidence, query_var)\n",
    "\n",
    "        y_true.append(row[query_var])\n",
    "        y_pred.append(prediction)\n",
    "\n",
    "    # Calculate accuracy\n",
    "    acc = accuracy_score(y_true, y_pred)\n",
    "    cm = confusion_matrix(y_true, y_pred)\n",
    "    report = classification_report(y_true, y_pred, zero_division=0)\n",
    "\n",
    "    print(\"Confusion Matrix:\\n\", cm)\n",
    "    print(\"\\nClassification Report:\\n\", report)\n",
    "\n",
    "    metrics = {\n",
    "        \"accuracy\": acc,\n",
    "    }\n",
    "\n",
    "    return metrics"
   ]
  },
  {
   "cell_type": "code",
   "execution_count": 407,
   "id": "109c0492",
   "metadata": {
    "scrolled": true
   },
   "outputs": [
    {
     "name": "stdout",
     "output_type": "stream",
     "text": [
      "Confusion Matrix:\n",
      " [[124064   7255]\n",
      " [ 69877   8519]]\n",
      "\n",
      "Classification Report:\n",
      "               precision    recall  f1-score   support\n",
      "\n",
      "           0       0.64      0.94      0.76    131319\n",
      "           1       0.54      0.11      0.18     78396\n",
      "\n",
      "    accuracy                           0.63    209715\n",
      "   macro avg       0.59      0.53      0.47    209715\n",
      "weighted avg       0.60      0.63      0.55    209715\n",
      "\n",
      "Accuracy: 0.6322056123787044\n"
     ]
    }
   ],
   "source": [
    "metrics = evaluate_bayes_net(classification_final, test_data, \"CLASIFFICATION_FINAL\")\n",
    "print(\"Accuracy:\", metrics[\"accuracy\"])"
   ]
  },
  {
   "cell_type": "code",
   "execution_count": null,
   "id": "0a041df8",
   "metadata": {},
   "outputs": [],
   "source": []
  }
 ],
 "metadata": {
  "kernelspec": {
   "display_name": "base",
   "language": "python",
   "name": "python3"
  },
  "language_info": {
   "codemirror_mode": {
    "name": "ipython",
    "version": 3
   },
   "file_extension": ".py",
   "mimetype": "text/x-python",
   "name": "python",
   "nbconvert_exporter": "python",
   "pygments_lexer": "ipython3",
   "version": "3.12.7"
  }
 },
 "nbformat": 4,
 "nbformat_minor": 5
}
